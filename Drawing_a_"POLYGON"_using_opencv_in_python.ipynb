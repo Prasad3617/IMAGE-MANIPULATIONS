{
  "cells": [
    {
      "cell_type": "markdown",
      "metadata": {
        "id": "view-in-github",
        "colab_type": "text"
      },
      "source": [
        "<a href=\"https://colab.research.google.com/github/Prasad3617/IMAGE-MANIPULATIONS/blob/main/Drawing_a_%22POLYGON%22_using_opencv_in_python.ipynb\" target=\"_parent\"><img src=\"https://colab.research.google.com/assets/colab-badge.svg\" alt=\"Open In Colab\"/></a>"
      ]
    },
    {
      "cell_type": "markdown",
      "id": "b159933c",
      "metadata": {
        "id": "b159933c"
      },
      "source": [
        "# Drawing a \"POLYGON\" using opencv in python"
      ]
    },
    {
      "cell_type": "markdown",
      "id": "c12d83fc",
      "metadata": {
        "id": "c12d83fc"
      },
      "source": [
        "#### Importing Necessary Libraries"
      ]
    },
    {
      "cell_type": "code",
      "execution_count": null,
      "id": "48d643b8",
      "metadata": {
        "id": "48d643b8"
      },
      "outputs": [],
      "source": [
        "import numpy as np\n",
        "import cv2"
      ]
    },
    {
      "cell_type": "markdown",
      "id": "a48dacae",
      "metadata": {
        "id": "a48dacae"
      },
      "source": [
        "#### Declaring a variable which is used to store and display a image.\n",
        "#### Feel free to use word \"image\" as it isn't a reserved keyword."
      ]
    },
    {
      "cell_type": "code",
      "execution_count": null,
      "id": "96e0bbc1",
      "metadata": {
        "id": "96e0bbc1"
      },
      "outputs": [],
      "source": [
        "image = np.zeros((512,512,3),np.uint8)"
      ]
    },
    {
      "cell_type": "markdown",
      "id": "e6242d85",
      "metadata": {
        "id": "e6242d85"
      },
      "source": [
        "#### Defining a variable to store \"points\", or \"corners\" for the poylgon we are creating\n",
        "#### Feel free to play with coordinates of corners in space"
      ]
    },
    {
      "cell_type": "code",
      "execution_count": null,
      "id": "d31f39d0",
      "metadata": {
        "id": "d31f39d0"
      },
      "outputs": [],
      "source": [
        "pts = np.array([[10,50],[400,50],[90,200],[50,500]],np.int32)"
      ]
    },
    {
      "cell_type": "markdown",
      "id": "eeb8e2fd",
      "metadata": {
        "id": "eeb8e2fd"
      },
      "source": [
        "#### Reshaping the points to form required polygon by employing the concept of \"polylines\"\n",
        "####  \"(0,0,255)\" ensures that Polygon is displayed in \"RED\" according to BGR format "
      ]
    },
    {
      "cell_type": "code",
      "execution_count": null,
      "id": "c1662f10",
      "metadata": {
        "id": "c1662f10"
      },
      "outputs": [],
      "source": [
        "pts = pts.reshape(-1,1,2)\n",
        "cv2.polylines(image, [pts], True, (0,0,255), 3)\n",
        "cv2.imshow(\"Polygon\", image)\n",
        "cv2.waitKey(0)\n",
        "cv2.destroyAllWindows()"
      ]
    }
  ],
  "metadata": {
    "kernelspec": {
      "display_name": "Python 3 (ipykernel)",
      "language": "python",
      "name": "python3"
    },
    "language_info": {
      "codemirror_mode": {
        "name": "ipython",
        "version": 3
      },
      "file_extension": ".py",
      "mimetype": "text/x-python",
      "name": "python",
      "nbconvert_exporter": "python",
      "pygments_lexer": "ipython3",
      "version": "3.11.0"
    },
    "colab": {
      "provenance": [],
      "include_colab_link": true
    }
  },
  "nbformat": 4,
  "nbformat_minor": 5
}