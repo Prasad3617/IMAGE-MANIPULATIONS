{
  "cells": [
    {
      "cell_type": "markdown",
      "metadata": {
        "id": "view-in-github",
        "colab_type": "text"
      },
      "source": [
        "<a href=\"https://colab.research.google.com/github/Prasad3617/IMAGE-MANIPULATIONS/blob/main/Face_Detection.ipynb\" target=\"_parent\"><img src=\"https://colab.research.google.com/assets/colab-badge.svg\" alt=\"Open In Colab\"/></a>"
      ]
    },
    {
      "cell_type": "code",
      "execution_count": null,
      "id": "8bad7f5c",
      "metadata": {
        "id": "8bad7f5c"
      },
      "outputs": [],
      "source": [
        "import cv2                      #importing necessary libraries\n",
        "import numpy as np"
      ]
    },
    {
      "cell_type": "code",
      "execution_count": null,
      "id": "76ca2c6e",
      "metadata": {
        "id": "76ca2c6e"
      },
      "outputs": [],
      "source": [
        "face_classifier=cv2.CascadeClassifier(\"haarcascade_frontalcatface.xml\")     #pointing to the haarcascade classifier function"
      ]
    },
    {
      "cell_type": "code",
      "execution_count": null,
      "id": "ab1f629e",
      "metadata": {
        "id": "ab1f629e"
      },
      "outputs": [],
      "source": [
        "image=cv2.imread(\"15.jpeg\")                                 #loading our input image\n",
        "gray=cv2.cvtColor(image,cv2.COLOR_BGR2GRAY)                 #converting our grayscale image to grayscale image"
      ]
    },
    {
      "cell_type": "code",
      "execution_count": null,
      "id": "60f8fc7d",
      "metadata": {
        "id": "60f8fc7d"
      },
      "outputs": [],
      "source": [
        "faces=face_classifier.detectMultiScale(gray,1.3,5)           #storing the starting and end coordinates of the classifier"
      ]
    },
    {
      "cell_type": "code",
      "execution_count": null,
      "id": "d486486d",
      "metadata": {
        "id": "d486486d",
        "outputId": "b9e0833b-ec46-4393-ba6a-0762b0a66dbb"
      },
      "outputs": [
        {
          "name": "stdout",
          "output_type": "stream",
          "text": [
            "No Faces found!\n"
          ]
        }
      ],
      "source": [
        "if faces==():                                             #if no face gets detected\n",
        "    print(\"No Faces found!\")"
      ]
    },
    {
      "cell_type": "code",
      "execution_count": null,
      "id": "9382d261",
      "metadata": {
        "id": "9382d261"
      },
      "outputs": [],
      "source": [
        "for(x,y,w,h) in faces:                                      #if a face gets detected\n",
        "    cv2.rectangle(image,(x,y),(x+w,y+h),(127,0,255),2)\n",
        "    cv2.imshow(\"Detected_Face\",image)\n",
        "    cv2.waitKey(0)"
      ]
    },
    {
      "cell_type": "code",
      "execution_count": null,
      "id": "35ddcd44",
      "metadata": {
        "id": "35ddcd44"
      },
      "outputs": [],
      "source": [
        "cv2.destroyAllWindows()"
      ]
    },
    {
      "cell_type": "code",
      "execution_count": null,
      "id": "ce7b2df8",
      "metadata": {
        "id": "ce7b2df8"
      },
      "outputs": [],
      "source": []
    }
  ],
  "metadata": {
    "kernelspec": {
      "display_name": "Python 3 (ipykernel)",
      "language": "python",
      "name": "python3"
    },
    "language_info": {
      "codemirror_mode": {
        "name": "ipython",
        "version": 3
      },
      "file_extension": ".py",
      "mimetype": "text/x-python",
      "name": "python",
      "nbconvert_exporter": "python",
      "pygments_lexer": "ipython3",
      "version": "3.11.3"
    },
    "colab": {
      "provenance": [],
      "include_colab_link": true
    }
  },
  "nbformat": 4,
  "nbformat_minor": 5
}