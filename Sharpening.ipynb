{
  "cells": [
    {
      "cell_type": "markdown",
      "metadata": {
        "id": "view-in-github",
        "colab_type": "text"
      },
      "source": [
        "<a href=\"https://colab.research.google.com/github/Prasad3617/IMAGE-MANIPULATIONS/blob/main/Sharpening.ipynb\" target=\"_parent\"><img src=\"https://colab.research.google.com/assets/colab-badge.svg\" alt=\"Open In Colab\"/></a>"
      ]
    },
    {
      "cell_type": "markdown",
      "id": "fcb76b65",
      "metadata": {
        "id": "fcb76b65"
      },
      "source": [
        "## Sharpening\n",
        "### reverse operation of blurring"
      ]
    },
    {
      "cell_type": "code",
      "execution_count": null,
      "id": "817bfc20",
      "metadata": {
        "id": "817bfc20"
      },
      "outputs": [],
      "source": [
        "import cv2                                              #importing necessary libraries\n",
        "import numpy as np"
      ]
    },
    {
      "cell_type": "code",
      "execution_count": null,
      "id": "12985af7",
      "metadata": {
        "id": "12985af7"
      },
      "outputs": [],
      "source": [
        "image=cv2.imread(\"image3.png\")                          #reading an input image"
      ]
    },
    {
      "cell_type": "code",
      "execution_count": null,
      "id": "7779cf6a",
      "metadata": {
        "id": "7779cf6a",
        "outputId": "7f766c7d-b40a-4e95-c1b4-93e772b47eef"
      },
      "outputs": [
        {
          "data": {
            "text/plain": [
              "113"
            ]
          },
          "execution_count": 3,
          "metadata": {},
          "output_type": "execute_result"
        }
      ],
      "source": [
        "cv2.imshow(\"Original_Image\",image)                      #displaying our original image\n",
        "cv2.waitKey(0)"
      ]
    },
    {
      "cell_type": "code",
      "execution_count": null,
      "id": "2c9bd78d",
      "metadata": {
        "id": "2c9bd78d"
      },
      "outputs": [],
      "source": [
        "#we now create our kernel to sharpen the image.\n",
        "#we need not to multiply by a normalizing factor, since values in our matrix sum to 1.\n",
        "\n",
        "kernel_sharpening=np.array([[-1,-1,-1],\n",
        "                            [-1,9,-1],\n",
        "                            [-1,-1,-1]])"
      ]
    },
    {
      "cell_type": "code",
      "execution_count": null,
      "id": "c48f5b5c",
      "metadata": {
        "id": "c48f5b5c"
      },
      "outputs": [],
      "source": [
        "sharpened=cv2.filter2D(image,-1,kernel_sharpening)     #applying different kernels to the input image"
      ]
    },
    {
      "cell_type": "code",
      "execution_count": null,
      "id": "a549d2b5",
      "metadata": {
        "id": "a549d2b5"
      },
      "outputs": [],
      "source": [
        "cv2.imshow(\"Sharpened_Image\",sharpened)\n",
        "cv2.waitKey(0)"
      ]
    },
    {
      "cell_type": "code",
      "execution_count": null,
      "id": "221b5dcb",
      "metadata": {
        "id": "221b5dcb"
      },
      "outputs": [],
      "source": [
        "cv2.destroyAllWindows()"
      ]
    }
  ],
  "metadata": {
    "kernelspec": {
      "display_name": "Python 3 (ipykernel)",
      "language": "python",
      "name": "python3"
    },
    "language_info": {
      "codemirror_mode": {
        "name": "ipython",
        "version": 3
      },
      "file_extension": ".py",
      "mimetype": "text/x-python",
      "name": "python",
      "nbconvert_exporter": "python",
      "pygments_lexer": "ipython3",
      "version": "3.10.11"
    },
    "colab": {
      "provenance": [],
      "include_colab_link": true
    }
  },
  "nbformat": 4,
  "nbformat_minor": 5
}