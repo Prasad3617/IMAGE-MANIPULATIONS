{
  "cells": [
    {
      "cell_type": "markdown",
      "metadata": {
        "id": "view-in-github",
        "colab_type": "text"
      },
      "source": [
        "<a href=\"https://colab.research.google.com/github/Prasad3617/IMAGE-MANIPULATIONS/blob/main/Image_Segmentation.ipynb\" target=\"_parent\"><img src=\"https://colab.research.google.com/assets/colab-badge.svg\" alt=\"Open In Colab\"/></a>"
      ]
    },
    {
      "cell_type": "markdown",
      "id": "6e11e57c",
      "metadata": {
        "id": "6e11e57c"
      },
      "source": [
        "# Image_Segmentation"
      ]
    },
    {
      "cell_type": "markdown",
      "id": "ded1ad78",
      "metadata": {
        "id": "ded1ad78"
      },
      "source": [
        "## 1. Contours"
      ]
    },
    {
      "cell_type": "markdown",
      "id": "e813a875",
      "metadata": {
        "id": "e813a875"
      },
      "source": [
        "### Contours are continuous lines or curves that bound or cover the full-boundary of an object in an image"
      ]
    },
    {
      "cell_type": "code",
      "execution_count": null,
      "id": "75c549e1",
      "metadata": {
        "id": "75c549e1"
      },
      "outputs": [],
      "source": [
        "import cv2                                       #importing necessary libraries\n",
        "import numpy as np"
      ]
    },
    {
      "cell_type": "code",
      "execution_count": null,
      "id": "e09e0e91",
      "metadata": {
        "id": "e09e0e91"
      },
      "outputs": [],
      "source": [
        "image=cv2.imread(\"2.jpg\")                        #loading our image"
      ]
    },
    {
      "cell_type": "code",
      "execution_count": null,
      "id": "3d97a8e6",
      "metadata": {
        "id": "3d97a8e6",
        "outputId": "75023cf2-ecb3-40c5-d987-a259b4d6597a"
      },
      "outputs": [
        {
          "data": {
            "text/plain": [
              "113"
            ]
          },
          "execution_count": 3,
          "metadata": {},
          "output_type": "execute_result"
        }
      ],
      "source": [
        "cv2.imshow(\"Input Image\", image)                 #displaying our original image\n",
        "cv2.waitKey(0)"
      ]
    },
    {
      "cell_type": "code",
      "execution_count": null,
      "id": "1cd96664",
      "metadata": {
        "id": "1cd96664"
      },
      "outputs": [],
      "source": [
        "gray=cv2.cvtColor(image,cv2.COLOR_BGR2GRAY)      #displaying the grayscale-image"
      ]
    },
    {
      "cell_type": "code",
      "execution_count": null,
      "id": "40295054",
      "metadata": {
        "id": "40295054",
        "outputId": "d495f534-b8d2-4992-b0e9-62ea5fbe31af"
      },
      "outputs": [
        {
          "data": {
            "text/plain": [
              "113"
            ]
          },
          "execution_count": 5,
          "metadata": {},
          "output_type": "execute_result"
        }
      ],
      "source": [
        "edged=cv2.Canny(gray,30,200)                     #finding canny edges\n",
        "cv2.imshow(\"Canny Edges\",edged)\n",
        "cv2.waitKey(0)"
      ]
    },
    {
      "cell_type": "code",
      "execution_count": null,
      "id": "a04cae1b",
      "metadata": {
        "id": "a04cae1b",
        "outputId": "3207c8f7-39d6-4e9c-df37-1401bcaa55be"
      },
      "outputs": [
        {
          "data": {
            "text/plain": [
              "113"
            ]
          },
          "execution_count": 6,
          "metadata": {},
          "output_type": "execute_result"
        }
      ],
      "source": [
        "contours,hierarchy=cv2.findContours(edged,cv2.RETR_EXTERNAL,cv2.CHAIN_APPROX_NONE)    #finding contours\n",
        "cv2.imshow(\"Canny Edges after Contouring\",edged)\n",
        "cv2.waitKey(0)"
      ]
    },
    {
      "cell_type": "code",
      "execution_count": null,
      "id": "0754ad9d",
      "metadata": {
        "id": "0754ad9d",
        "outputId": "d8e1acd3-c045-42a2-9084-ce6fc21fe927"
      },
      "outputs": [
        {
          "name": "stdout",
          "output_type": "stream",
          "text": [
            "Number of contours found= 3007\n"
          ]
        }
      ],
      "source": [
        "print(\"Number of contours found= \" +str(len(contours)))"
      ]
    },
    {
      "cell_type": "code",
      "execution_count": null,
      "id": "3a00fd3f",
      "metadata": {
        "id": "3a00fd3f",
        "outputId": "c2024d0c-c532-4594-9614-a9d27de85f3b"
      },
      "outputs": [
        {
          "data": {
            "text/plain": [
              "array([[[200, 134,  85],\n",
              "        [200, 134,  85],\n",
              "        [200, 134,  85],\n",
              "        ...,\n",
              "        [ 10,  15,  16],\n",
              "        [ 10,  15,  16],\n",
              "        [  8,  13,  14]],\n",
              "\n",
              "       [[200, 134,  85],\n",
              "        [200, 134,  85],\n",
              "        [200, 134,  85],\n",
              "        ...,\n",
              "        [  9,  14,  15],\n",
              "        [  9,  14,  15],\n",
              "        [  8,  13,  14]],\n",
              "\n",
              "       [[200, 134,  85],\n",
              "        [200, 134,  85],\n",
              "        [200, 134,  85],\n",
              "        ...,\n",
              "        [  8,  13,  14],\n",
              "        [  7,  12,  13],\n",
              "        [  6,  11,  12]],\n",
              "\n",
              "       ...,\n",
              "\n",
              "       [[  0, 255,   0],\n",
              "        [  0, 255,   0],\n",
              "        [  0, 255,   0],\n",
              "        ...,\n",
              "        [ 71,  68,  70],\n",
              "        [ 71,  68,  70],\n",
              "        [ 71,  68,  70]],\n",
              "\n",
              "       [[  0, 255,   0],\n",
              "        [  0, 255,   0],\n",
              "        [  0, 255,   0],\n",
              "        ...,\n",
              "        [ 61,  58,  60],\n",
              "        [ 61,  58,  60],\n",
              "        [ 61,  58,  60]],\n",
              "\n",
              "       [[  0, 255,   0],\n",
              "        [  0, 255,   0],\n",
              "        [  0, 255,   0],\n",
              "        ...,\n",
              "        [ 58,  55,  57],\n",
              "        [ 58,  55,  57],\n",
              "        [ 58,  55,  57]]], dtype=uint8)"
            ]
          },
          "execution_count": 8,
          "metadata": {},
          "output_type": "execute_result"
        }
      ],
      "source": [
        "cv2.drawContours(image,contours,-1,(0,255,0),3)    #drawing all contours"
      ]
    },
    {
      "cell_type": "code",
      "execution_count": null,
      "id": "d0fa3e76",
      "metadata": {
        "id": "d0fa3e76",
        "outputId": "aa518344-516b-4028-c725-46062d5bf63e"
      },
      "outputs": [
        {
          "data": {
            "text/plain": [
              "113"
            ]
          },
          "execution_count": 9,
          "metadata": {},
          "output_type": "execute_result"
        }
      ],
      "source": [
        "cv2.imshow(\"Contours\",image)                       #displaying all contours\n",
        "cv2.waitKey(0)"
      ]
    },
    {
      "cell_type": "code",
      "execution_count": null,
      "id": "a7423f5b",
      "metadata": {
        "id": "a7423f5b"
      },
      "outputs": [],
      "source": [
        "cv2.destroyAllWindows()"
      ]
    },
    {
      "cell_type": "code",
      "execution_count": null,
      "id": "292225c1",
      "metadata": {
        "id": "292225c1"
      },
      "outputs": [],
      "source": []
    }
  ],
  "metadata": {
    "kernelspec": {
      "display_name": "Python 3 (ipykernel)",
      "language": "python",
      "name": "python3"
    },
    "language_info": {
      "codemirror_mode": {
        "name": "ipython",
        "version": 3
      },
      "file_extension": ".py",
      "mimetype": "text/x-python",
      "name": "python",
      "nbconvert_exporter": "python",
      "pygments_lexer": "ipython3",
      "version": "3.11.3"
    },
    "colab": {
      "provenance": [],
      "include_colab_link": true
    }
  },
  "nbformat": 4,
  "nbformat_minor": 5
}