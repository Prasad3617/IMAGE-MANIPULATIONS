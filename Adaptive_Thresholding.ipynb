{
  "cells": [
    {
      "cell_type": "markdown",
      "metadata": {
        "id": "view-in-github",
        "colab_type": "text"
      },
      "source": [
        "<a href=\"https://colab.research.google.com/github/Prasad3617/IMAGE-MANIPULATIONS/blob/main/Adaptive_Thresholding.ipynb\" target=\"_parent\"><img src=\"https://colab.research.google.com/assets/colab-badge.svg\" alt=\"Open In Colab\"/></a>"
      ]
    },
    {
      "cell_type": "markdown",
      "id": "669587b2",
      "metadata": {
        "id": "669587b2"
      },
      "source": [
        "# Adaptive Thresholding"
      ]
    },
    {
      "cell_type": "markdown",
      "id": "dfa5ae4e",
      "metadata": {
        "id": "dfa5ae4e"
      },
      "source": [
        "### No need for threshold value to be incorporated unlike traditional thresholding methods"
      ]
    },
    {
      "cell_type": "code",
      "execution_count": null,
      "id": "537dddb1",
      "metadata": {
        "id": "537dddb1"
      },
      "outputs": [],
      "source": [
        "import cv2                                                      #importing necessary libraries\n",
        "import numpy as np"
      ]
    },
    {
      "cell_type": "code",
      "execution_count": null,
      "id": "6b08e358",
      "metadata": {
        "id": "6b08e358"
      },
      "outputs": [],
      "source": [
        "image=cv2.imread(\"image3.png\",0)                                  #reading our input image"
      ]
    },
    {
      "cell_type": "code",
      "execution_count": null,
      "id": "3e0ad109",
      "metadata": {
        "id": "3e0ad109",
        "outputId": "910a81bb-d4d5-4fba-8fc8-67a4401ec7b5"
      },
      "outputs": [
        {
          "data": {
            "text/plain": [
              "113"
            ]
          },
          "execution_count": 3,
          "metadata": {},
          "output_type": "execute_result"
        }
      ],
      "source": [
        "cv2.imshow(\"Original Image\",image)                              #displaying our original image\n",
        "cv2.waitKey(0)"
      ]
    },
    {
      "cell_type": "code",
      "execution_count": null,
      "id": "812b2b1d",
      "metadata": {
        "id": "812b2b1d",
        "outputId": "9d37476d-76aa-476b-d269-bcea336f202a"
      },
      "outputs": [
        {
          "data": {
            "text/plain": [
              "113"
            ]
          },
          "execution_count": 4,
          "metadata": {},
          "output_type": "execute_result"
        }
      ],
      "source": [
        "ret,thresh1=cv2.threshold(image,127,255,cv2.THRESH_BINARY)      #values below 127 go to 0(black) and everything above 127 goes to 255(white)\n",
        "cv2.imshow(\"Threshold Binary\",thresh1)\n",
        "cv2.waitKey(0)"
      ]
    },
    {
      "cell_type": "code",
      "execution_count": null,
      "id": "5e3257fc",
      "metadata": {
        "id": "5e3257fc"
      },
      "outputs": [],
      "source": [
        "image1=cv2.GaussianBlur(image,(5,5),0)                          #good to remove noise using gaussian blur"
      ]
    },
    {
      "cell_type": "code",
      "execution_count": null,
      "id": "2feafde1",
      "metadata": {
        "id": "2feafde1",
        "outputId": "189702fe-aed3-479f-a296-d3adecd5c9d7"
      },
      "outputs": [
        {
          "data": {
            "text/plain": [
              "113"
            ]
          },
          "execution_count": 6,
          "metadata": {},
          "output_type": "execute_result"
        }
      ],
      "source": [
        "thresh=cv2.adaptiveThreshold(image,255,cv2.ADAPTIVE_THRESH_MEAN_C,cv2.THRESH_BINARY,3,5)   #using adaptive threshold\n",
        "cv2.imshow(\"Adaptive Mean Thresholding\",thresh)\n",
        "cv2.waitKey(0)"
      ]
    },
    {
      "cell_type": "code",
      "execution_count": null,
      "id": "d09c706d",
      "metadata": {
        "id": "d09c706d",
        "outputId": "e0290235-5116-46bd-ae55-e7a94a30e99f"
      },
      "outputs": [
        {
          "data": {
            "text/plain": [
              "113"
            ]
          },
          "execution_count": 7,
          "metadata": {},
          "output_type": "execute_result"
        }
      ],
      "source": [
        "_,th2=cv2.threshold(image,0,255,cv2.THRESH_BINARY+cv2.THRESH_OTSU)\n",
        "cv2.imshow(\"Otsu's Thresholding\",thresh)\n",
        "cv2.waitKey(0)"
      ]
    },
    {
      "cell_type": "code",
      "execution_count": null,
      "id": "1c46a98e",
      "metadata": {
        "id": "1c46a98e",
        "outputId": "9f94eea2-097a-42d5-e9e2-b3cd921cfc87"
      },
      "outputs": [
        {
          "data": {
            "text/plain": [
              "113"
            ]
          },
          "execution_count": 8,
          "metadata": {},
          "output_type": "execute_result"
        }
      ],
      "source": [
        "blur=cv2.GaussianBlur(image,(7,7),0)                               #Otsu's thresholding after gaussian filtering\n",
        "_,th3=cv2.threshold(blur,0,255,cv2.THRESH_BINARY+cv2.THRESH_OTSU)\n",
        "cv2.imshow(\"Gaussian Otsu's Thresholding\",thresh)\n",
        "cv2.waitKey(0)"
      ]
    },
    {
      "cell_type": "code",
      "execution_count": null,
      "id": "4d68b36d",
      "metadata": {
        "id": "4d68b36d"
      },
      "outputs": [],
      "source": [
        "cv2.destroyAllWindows()"
      ]
    }
  ],
  "metadata": {
    "kernelspec": {
      "display_name": "Python 3 (ipykernel)",
      "language": "python",
      "name": "python3"
    },
    "language_info": {
      "codemirror_mode": {
        "name": "ipython",
        "version": 3
      },
      "file_extension": ".py",
      "mimetype": "text/x-python",
      "name": "python",
      "nbconvert_exporter": "python",
      "pygments_lexer": "ipython3",
      "version": "3.10.11"
    },
    "colab": {
      "provenance": [],
      "include_colab_link": true
    }
  },
  "nbformat": 4,
  "nbformat_minor": 5
}