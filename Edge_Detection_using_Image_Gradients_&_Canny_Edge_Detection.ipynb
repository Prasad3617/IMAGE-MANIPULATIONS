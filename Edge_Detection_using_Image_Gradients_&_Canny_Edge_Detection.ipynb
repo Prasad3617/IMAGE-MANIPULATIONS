{
  "cells": [
    {
      "cell_type": "markdown",
      "metadata": {
        "id": "view-in-github",
        "colab_type": "text"
      },
      "source": [
        "<a href=\"https://colab.research.google.com/github/Prasad3617/IMAGE-MANIPULATIONS/blob/main/Edge_Detection_using_Image_Gradients_%26_Canny_Edge_Detection.ipynb\" target=\"_parent\"><img src=\"https://colab.research.google.com/assets/colab-badge.svg\" alt=\"Open In Colab\"/></a>"
      ]
    },
    {
      "cell_type": "markdown",
      "id": "fc85e5f3",
      "metadata": {
        "id": "fc85e5f3"
      },
      "source": [
        "# Edge Detection using Image Gradients & Canny Edge Detection"
      ]
    },
    {
      "cell_type": "code",
      "execution_count": null,
      "id": "68d29c43",
      "metadata": {
        "id": "68d29c43"
      },
      "outputs": [],
      "source": [
        "import cv2                                          #importing necessary libraries\n",
        "import numpy as np"
      ]
    },
    {
      "cell_type": "code",
      "execution_count": null,
      "id": "6ce37cdc",
      "metadata": {
        "id": "6ce37cdc"
      },
      "outputs": [],
      "source": [
        "image=cv2.imread(\"image3.png\",0)                    #reading the input image"
      ]
    },
    {
      "cell_type": "code",
      "execution_count": null,
      "id": "16943950",
      "metadata": {
        "id": "16943950"
      },
      "outputs": [],
      "source": [
        "height,width=image.shape                            #storing values for height and width in the image.shape"
      ]
    },
    {
      "cell_type": "code",
      "execution_count": null,
      "id": "7f6eda36",
      "metadata": {
        "id": "7f6eda36"
      },
      "outputs": [],
      "source": [
        "sobel_x=cv2.Sobel(image,cv2.CV_64F,0,1,ksize=5)     #extracting edges for applying sobel filter\n",
        "sobel_y=cv2.Sobel(image,cv2.CV_64F,1,0,ksize=5)"
      ]
    },
    {
      "cell_type": "code",
      "execution_count": null,
      "id": "353ef973",
      "metadata": {
        "id": "353ef973",
        "outputId": "26b780f5-7f4b-4f43-8654-c00ef7d7b508"
      },
      "outputs": [
        {
          "data": {
            "text/plain": [
              "113"
            ]
          },
          "execution_count": 5,
          "metadata": {},
          "output_type": "execute_result"
        }
      ],
      "source": [
        "cv2.imshow(\"Original_Image\",image)                  #displaying original image\n",
        "cv2.waitKey(0)"
      ]
    },
    {
      "cell_type": "code",
      "execution_count": null,
      "id": "15ea6351",
      "metadata": {
        "id": "15ea6351",
        "outputId": "1c0ab446-4c9e-499b-dc30-26f106b6339c"
      },
      "outputs": [
        {
          "data": {
            "text/plain": [
              "113"
            ]
          },
          "execution_count": 6,
          "metadata": {},
          "output_type": "execute_result"
        }
      ],
      "source": [
        "cv2.imshow(\"Sobel_X\",sobel_x)                       #displaying sobel_x\n",
        "cv2.waitKey(0)"
      ]
    },
    {
      "cell_type": "code",
      "execution_count": null,
      "id": "05dc3e80",
      "metadata": {
        "id": "05dc3e80",
        "outputId": "d8fa90b1-44d6-40ad-8112-de4a9d2c2ed1"
      },
      "outputs": [
        {
          "data": {
            "text/plain": [
              "113"
            ]
          },
          "execution_count": 7,
          "metadata": {},
          "output_type": "execute_result"
        }
      ],
      "source": [
        "cv2.imshow(\"Sobel_Y\",sobel_y)                       #displaying sobel_y\n",
        "cv2.waitKey(0)"
      ]
    },
    {
      "cell_type": "code",
      "execution_count": null,
      "id": "f1f1a779",
      "metadata": {
        "id": "f1f1a779",
        "outputId": "1aca4077-63ed-4ee0-99bc-6a474b07a388"
      },
      "outputs": [
        {
          "data": {
            "text/plain": [
              "113"
            ]
          },
          "execution_count": 8,
          "metadata": {},
          "output_type": "execute_result"
        }
      ],
      "source": [
        "sobel_OR=cv2.bitwise_or(sobel_x,sobel_y)            #performing bitwise operation to show either of the both \"sobel_x\" or \"sobel_y\" or both\n",
        "cv2.imshow(\"Sobel_OR\",sobel_OR)\n",
        "cv2.waitKey(0)"
      ]
    },
    {
      "cell_type": "code",
      "execution_count": null,
      "id": "6bda9dd1",
      "metadata": {
        "id": "6bda9dd1",
        "outputId": "303c1462-9837-407a-9fc8-6dc637ff986a"
      },
      "outputs": [
        {
          "data": {
            "text/plain": [
              "113"
            ]
          },
          "execution_count": 10,
          "metadata": {},
          "output_type": "execute_result"
        }
      ],
      "source": [
        "laplacian=cv2.Laplacian(image,cv2.CV_64F)           #perfotming operations to detect laplacian filter\n",
        "cv2.imshow(\"Laplacian_Filter\",laplacian)\n",
        "cv2.waitKey(0)"
      ]
    },
    {
      "cell_type": "code",
      "execution_count": null,
      "id": "87d3eec1",
      "metadata": {
        "id": "87d3eec1",
        "outputId": "938de499-e391-47e7-b23f-ed2303c1539f"
      },
      "outputs": [
        {
          "data": {
            "text/plain": [
              "113"
            ]
          },
          "execution_count": 11,
          "metadata": {},
          "output_type": "execute_result"
        }
      ],
      "source": [
        "canny=cv2.Canny(image,20,170)                       #performing Canny Edge Detection, which uses two thresholds for filtering pixels intensities, beyond which the pixel intensities beyond the greater threshold value accounts to be an edge\n",
        "cv2.imshow(\"Canny_Edge_Detector\",canny)\n",
        "cv2.waitKey(0)"
      ]
    },
    {
      "cell_type": "code",
      "execution_count": null,
      "id": "c695a0dc",
      "metadata": {
        "id": "c695a0dc"
      },
      "outputs": [],
      "source": [
        "cv2.destroyAllWindows()"
      ]
    }
  ],
  "metadata": {
    "kernelspec": {
      "display_name": "Python 3 (ipykernel)",
      "language": "python",
      "name": "python3"
    },
    "language_info": {
      "codemirror_mode": {
        "name": "ipython",
        "version": 3
      },
      "file_extension": ".py",
      "mimetype": "text/x-python",
      "name": "python",
      "nbconvert_exporter": "python",
      "pygments_lexer": "ipython3",
      "version": "3.10.11"
    },
    "colab": {
      "provenance": [],
      "include_colab_link": true
    }
  },
  "nbformat": 4,
  "nbformat_minor": 5
}