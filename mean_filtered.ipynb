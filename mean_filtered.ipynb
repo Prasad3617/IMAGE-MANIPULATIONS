{
  "cells": [
    {
      "cell_type": "markdown",
      "metadata": {
        "id": "view-in-github",
        "colab_type": "text"
      },
      "source": [
        "<a href=\"https://colab.research.google.com/github/Prasad3617/IMAGE-MANIPULATIONS/blob/main/mean_filtered.ipynb\" target=\"_parent\"><img src=\"https://colab.research.google.com/assets/colab-badge.svg\" alt=\"Open In Colab\"/></a>"
      ]
    },
    {
      "cell_type": "code",
      "execution_count": null,
      "id": "f8eda4d3",
      "metadata": {
        "id": "f8eda4d3"
      },
      "outputs": [],
      "source": [
        "import cv2\n",
        "import numpy as np"
      ]
    },
    {
      "cell_type": "code",
      "execution_count": null,
      "id": "5840c968",
      "metadata": {
        "id": "5840c968"
      },
      "outputs": [],
      "source": [
        "def sp_noise(image):\n",
        "    output = image.copy()\n",
        "    if len(image.shape) == 2:\n",
        "        black = 0\n",
        "        white = 255\n",
        "    else:\n",
        "        black = np.array([0,0,0],dtype='uint8')\n",
        "        white = np.array([255,255,255],dtype='uint8')\n",
        "        random_threshold = np.random.random(image.shape[:2])\n",
        "        output[random_threshold<(random_threshold/2)] = black\n",
        "        output[random_threshold>1-(random_threshold/2)] = white\n",
        "        return output"
      ]
    },
    {
      "cell_type": "code",
      "execution_count": null,
      "id": "837b055c",
      "metadata": {
        "id": "837b055c"
      },
      "outputs": [],
      "source": [
        "def mean_filter(image,filter_size):\n",
        "    filter_dims = (filter_size,filter_size)\n",
        "    mean_filter = np.ones(filter_dims,np.float32)/ filter_size * filter_size\n",
        "    mean_filtered_image = cv2.filter2D(image,-1,mean_filter)\n",
        "    return mean_filtered_image"
      ]
    },
    {
      "cell_type": "code",
      "execution_count": null,
      "id": "e9af09ab",
      "metadata": {
        "id": "e9af09ab",
        "outputId": "fd60d9ab-69a5-4e21-ff26-a85638251f47"
      },
      "outputs": [
        {
          "name": "stderr",
          "output_type": "stream",
          "text": [
            "1   HIToolbox                           0x00007ff821bd252b _ZN15MenuBarInstance21IsAutoShowHideAllowedEv + 259\n",
            "2   HIToolbox                           0x00007ff821acb33e _ZN15MenuBarInstance24UpdateAutoShowVisibilityE5Pointh + 34\n",
            "3   HIToolbox                           0x00007ff821acb2b3 _ZN15MenuBarInstance14EnableAutoShowEv + 47\n",
            "4   HIToolbox                           0x00007ff821a6f908 SetMenuBarObscured + 408\n",
            "5   HIToolbox                           0x00007ff821a6f4ca _ZN13HIApplication15HandleActivatedEP14OpaqueEventRefhP15OpaqueWindowPtrh + 164\n",
            "6   HIToolbox                           0x00007ff821a69996 _ZN13HIApplication13EventObserverEjP14OpaqueEventRefPv + 252\n",
            "7   HIToolbox                           0x00007ff821a31bd2 _NotifyEventLoopObservers + 153\n",
            "8   HIToolbox                           0x00007ff821a693e6 AcquireEventFromQueue + 494\n",
            "9   HIToolbox                           0x00007ff821a583ec ReceiveNextEventCommon + 285\n",
            "10  HIToolbox                           0x00007ff821a582b3 _BlockUntilNextEventMatchingListInModeWithFilter + 70\n",
            "11  AppKit                              0x00007ff81ac512f3 _DPSNextEvent + 909\n",
            "12  AppKit                              0x00007ff81ac50174 -[NSApplication(NSEvent) _nextEventMatchingEventMask:untilDate:inMode:dequeue:] + 1219\n",
            "13  cv2.abi3.so                         0x000000012c0a36d2 cvWaitKey + 642\n",
            "14  cv2.abi3.so                         0x000000012c09ce66 _ZN2cv9waitKeyExEi + 198\n",
            "15  cv2.abi3.so                         0x000000012c09cf74 _ZN2cv7waitKeyEi + 36\n",
            "16  cv2.abi3.so                         0x000000012b23f234 _ZL19pyopencv_cv_waitKeyP7_objectS0_S0_ + 148\n",
            "17  python3.11                          0x0000000100e8b6a4 cfunction_call + 52\n",
            "18  python3.11                          0x0000000100f81350 _PyEval_EvalFrameDefault + 239456\n",
            "19  python3.11                          0x0000000100f442dd _PyEval_Vector + 493\n",
            "20  python3.11                          0x0000000100f4407a PyEval_EvalCode + 250\n",
            "21  python3.11                          0x0000000100f3f5bb builtin_exec + 379\n",
            "22  python3.11                          0x0000000100f8656e _PyEval_EvalFrameDefault + 260478\n",
            "23  python3.11                          0x0000000100e43427 gen_send_ex2 + 199\n",
            "24  python3.11                          0x0000000100f53871 _PyEval_EvalFrameDefault + 52353\n",
            "25  python3.11                          0x0000000100e43427 gen_send_ex2 + 199\n",
            "26  python3.11                          0x0000000100f53871 _PyEval_EvalFrameDefault + 52353\n",
            "27  python3.11                          0x0000000100e43427 gen_send_ex2 + 199\n",
            "28  python3.11                          0x0000000100e43aba gen_send + 42\n",
            "29  python3.11                          0x0000000100e3933d method_vectorcall_O + 125\n",
            "30  python3.11                          0x0000000100f811c3 _PyEval_EvalFrameDefault + 239059\n",
            "31  python3.11                          0x0000000100e277ef _PyFunction_Vectorcall + 511\n",
            "32  python3.11                          0x0000000100e2d52c method_vectorcall + 332\n",
            "33  python3.11                          0x0000000100f880d8 _PyEval_EvalFrameDefault + 267496\n",
            "34  python3.11                          0x0000000100e43427 gen_send_ex2 + 199\n",
            "35  python3.11                          0x0000000100f53871 _PyEval_EvalFrameDefault + 52353\n",
            "36  python3.11                          0x0000000100e43427 gen_send_ex2 + 199\n",
            "37  python3.11                          0x0000000100f53871 _PyEval_EvalFrameDefault + 52353\n",
            "38  python3.11                          0x0000000100e43427 gen_send_ex2 + 199\n",
            "39  python3.11                          0x0000000100f53871 _PyEval_EvalFrameDefault + 52353\n",
            "40  python3.11                          0x0000000100e43427 gen_send_ex2 + 199\n",
            "41  python3.11                          0x0000000100f53871 _PyEval_EvalFrameDefault + 52353\n",
            "42  python3.11                          0x0000000100e43427 gen_send_ex2 + 199\n",
            "43  _asyncio.cpython-311-darwin.so      0x000000010a96367a task_step_impl + 426\n",
            "44  _asyncio.cpython-311-darwin.so      0x000000010a96343e task_step + 62\n",
            "45  _asyncio.cpython-311-darwin.so      0x000000010a963eb6 task_wakeup + 198\n",
            "46  python3.11                          0x0000000100e8c044 cfunction_vectorcall_O + 100\n",
            "47  python3.11                          0x0000000100fb0409 _PyObject_VectorcallTstate.4600 + 73\n",
            "48  python3.11                          0x0000000100fb02f1 context_run + 81\n",
            "49  python3.11                          0x0000000100e8c2ef cfunction_vectorcall_FASTCALL_KEYWORDS + 95\n",
            "50  python3.11                          0x0000000100f8818b _PyEval_EvalFrameDefault + 267675\n",
            "51  python3.11                          0x0000000100f442dd _PyEval_Vector + 493\n",
            "52  python3.11                          0x0000000100f4407a PyEval_EvalCode + 250\n",
            "53  python3.11                          0x0000000100f3f5bb builtin_exec + 379\n",
            "54  python3.11                          0x0000000100e8c2ef cfunction_vectorcall_FASTCALL_KEYWORDS + 95\n",
            "55  python3.11                          0x0000000100f811c3 _PyEval_EvalFrameDefault + 239059\n",
            "56  python3.11                          0x0000000100e277ef _PyFunction_Vectorcall + 511\n",
            "57  python3.11                          0x00000001010184fe pymain_run_module + 222\n",
            "58  python3.11                          0x0000000101017fc0 Py_RunMain + 1776\n",
            "59  python3.11                          0x0000000100db2cb8 main + 56\n",
            "60  dyld                                0x00000002015ed310 start + 2432\n",
            "1   HIToolbox                           0x00007ff821bd252b _ZN15MenuBarInstance21IsAutoShowHideAllowedEv + 259\n",
            "2   HIToolbox                           0x00007ff821acb33e _ZN15MenuBarInstance24UpdateAutoShowVisibilityE5Pointh + 34\n",
            "3   HIToolbox                           0x00007ff821aceec6 _ZL19AutoShowHideHandlerP25OpaqueEventHandlerCallRefP14OpaqueEventRefPv + 83\n",
            "4   HIToolbox                           0x00007ff821a3248d _ZL23DispatchEventToHandlersP14EventTargetRecP14OpaqueEventRefP14HandlerCallRec + 1381\n",
            "5   HIToolbox                           0x00007ff821a318cc _ZL30SendEventToEventTargetInternalP14OpaqueEventRefP20OpaqueEventTargetRefP14HandlerCallRec + 333\n",
            "6   HIToolbox                           0x00007ff821a31773 SendEventToEventTargetWithOptions + 45\n",
            "7   HIToolbox                           0x00007ff821a70229 _ZL29ToolboxEventDispatcherHandlerP25OpaqueEventHandlerCallRefP14OpaqueEventRefPv + 1312\n",
            "8   HIToolbox                           0x00007ff821a32936 _ZL23DispatchEventToHandlersP14EventTargetRecP14OpaqueEventRefP14HandlerCallRec + 2574\n",
            "9   HIToolbox                           0x00007ff821a318cc _ZL30SendEventToEventTargetInternalP14OpaqueEventRefP20OpaqueEventTargetRefP14HandlerCallRec + 333\n",
            "10  HIToolbox                           0x00007ff821a46529 SendEventToEventTarget + 39\n",
            "11  AppKit                              0x00007ff81ac5070d -[NSApplication(NSEvent) _nextEventMatchingEventMask:untilDate:inMode:dequeue:] + 2652\n",
            "12  cv2.abi3.so                         0x000000012c0a36d2 cvWaitKey + 642\n",
            "13  cv2.abi3.so                         0x000000012c09ce66 _ZN2cv9waitKeyExEi + 198\n",
            "14  cv2.abi3.so                         0x000000012c09cf74 _ZN2cv7waitKeyEi + 36\n",
            "15  cv2.abi3.so                         0x000000012b23f234 _ZL19pyopencv_cv_waitKeyP7_objectS0_S0_ + 148\n",
            "16  python3.11                          0x0000000100e8b6a4 cfunction_call + 52\n",
            "17  python3.11                          0x0000000100f81350 _PyEval_EvalFrameDefault + 239456\n",
            "18  python3.11                          0x0000000100f442dd _PyEval_Vector + 493\n",
            "19  python3.11                          0x0000000100f4407a PyEval_EvalCode + 250\n",
            "20  python3.11                          0x0000000100f3f5bb builtin_exec + 379\n",
            "21  python3.11                          0x0000000100f8656e _PyEval_EvalFrameDefault + 260478\n",
            "22  python3.11                          0x0000000100e43427 gen_send_ex2 + 199\n",
            "23  python3.11                          0x0000000100f53871 _PyEval_EvalFrameDefault + 52353\n",
            "24  python3.11                          0x0000000100e43427 gen_send_ex2 + 199\n",
            "25  python3.11                          0x0000000100f53871 _PyEval_EvalFrameDefault + 52353\n",
            "26  python3.11                          0x0000000100e43427 gen_send_ex2 + 199\n",
            "27  python3.11                          0x0000000100e43aba gen_send + 42\n",
            "28  python3.11                          0x0000000100e3933d method_vectorcall_O + 125\n",
            "29  python3.11                          0x0000000100f811c3 _PyEval_EvalFrameDefault + 239059\n",
            "30  python3.11                          0x0000000100e277ef _PyFunction_Vectorcall + 511\n",
            "31  python3.11                          0x0000000100e2d52c method_vectorcall + 332\n",
            "32  python3.11                          0x0000000100f880d8 _PyEval_EvalFrameDefault + 267496\n",
            "33  python3.11                          0x0000000100e43427 gen_send_ex2 + 199\n",
            "34  python3.11                          0x0000000100f53871 _PyEval_EvalFrameDefault + 52353\n",
            "35  python3.11                          0x0000000100e43427 gen_send_ex2 + 199\n",
            "36  python3.11                          0x0000000100f53871 _PyEval_EvalFrameDefault + 52353\n",
            "37  python3.11                          0x0000000100e43427 gen_send_ex2 + 199\n",
            "38  python3.11                          0x0000000100f53871 _PyEval_EvalFrameDefault + 52353\n",
            "39  python3.11                          0x0000000100e43427 gen_send_ex2 + 199\n",
            "40  python3.11                          0x0000000100f53871 _PyEval_EvalFrameDefault + 52353\n",
            "41  python3.11                          0x0000000100e43427 gen_send_ex2 + 199\n",
            "42  _asyncio.cpython-311-darwin.so      0x000000010a96367a task_step_impl + 426\n",
            "43  _asyncio.cpython-311-darwin.so      0x000000010a96343e task_step + 62\n",
            "44  _asyncio.cpython-311-darwin.so      0x000000010a963eb6 task_wakeup + 198\n",
            "45  python3.11                          0x0000000100e8c044 cfunction_vectorcall_O + 100\n",
            "46  python3.11                          0x0000000100fb0409 _PyObject_VectorcallTstate.4600 + 73\n",
            "47  python3.11                          0x0000000100fb02f1 context_run + 81\n",
            "48  python3.11                          0x0000000100e8c2ef cfunction_vectorcall_FASTCALL_KEYWORDS + 95\n",
            "49  python3.11                          0x0000000100f8818b _PyEval_EvalFrameDefault + 267675\n",
            "50  python3.11                          0x0000000100f442dd _PyEval_Vector + 493\n",
            "51  python3.11                          0x0000000100f4407a PyEval_EvalCode + 250\n",
            "52  python3.11                          0x0000000100f3f5bb builtin_exec + 379\n",
            "53  python3.11                          0x0000000100e8c2ef cfunction_vectorcall_FASTCALL_KEYWORDS + 95\n",
            "54  python3.11                          0x0000000100f811c3 _PyEval_EvalFrameDefault + 239059\n",
            "55  python3.11                          0x0000000100e277ef _PyFunction_Vectorcall + 511\n",
            "56  python3.11                          0x00000001010184fe pymain_run_module + 222\n",
            "57  python3.11                          0x0000000101017fc0 Py_RunMain + 1776\n",
            "58  python3.11                          0x0000000100db2cb8 main + 56\n",
            "59  dyld                                0x00000002015ed310 start + 2432\n"
          ]
        }
      ],
      "source": [
        "image = cv2.imread('desktop/untitled folder 3/a.jpg')\n",
        "sp_noisy_image = sp_noise(image)\n",
        "mean_filtered_image = mean_filter(sp_noisy_image,3)\n",
        "cv2.imshow('mean filtered image',np.hstack((sp_noisy_image,mean_filtered_image)))\n",
        "cv2.waitKey(0)"
      ]
    }
  ],
  "metadata": {
    "kernelspec": {
      "display_name": "Python 3 (ipykernel)",
      "language": "python",
      "name": "python3"
    },
    "language_info": {
      "codemirror_mode": {
        "name": "ipython",
        "version": 3
      },
      "file_extension": ".py",
      "mimetype": "text/x-python",
      "name": "python",
      "nbconvert_exporter": "python",
      "pygments_lexer": "ipython3",
      "version": "3.11.0"
    },
    "colab": {
      "provenance": [],
      "include_colab_link": true
    }
  },
  "nbformat": 4,
  "nbformat_minor": 5
}