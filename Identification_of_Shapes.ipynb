{
  "cells": [
    {
      "cell_type": "markdown",
      "metadata": {
        "id": "view-in-github",
        "colab_type": "text"
      },
      "source": [
        "<a href=\"https://colab.research.google.com/github/Prasad3617/IMAGE-MANIPULATIONS/blob/main/Identification_of_Shapes.ipynb\" target=\"_parent\"><img src=\"https://colab.research.google.com/assets/colab-badge.svg\" alt=\"Open In Colab\"/></a>"
      ]
    },
    {
      "cell_type": "code",
      "execution_count": null,
      "id": "bb5453db",
      "metadata": {
        "id": "bb5453db"
      },
      "outputs": [],
      "source": [
        "import cv2                                         #importing necessary libraries\n",
        "import numpy as np"
      ]
    },
    {
      "cell_type": "code",
      "execution_count": null,
      "id": "0ce28b78",
      "metadata": {
        "id": "0ce28b78"
      },
      "outputs": [],
      "source": [
        "image=cv2.imread(\"7.png\")                          #loading our input image(s)\n",
        "gray=cv2.cvtColor(image,cv2.COLOR_BGR2GRAY)        #converting an RGB image to a Grayscale image"
      ]
    },
    {
      "cell_type": "code",
      "execution_count": null,
      "id": "d7f8df85",
      "metadata": {
        "id": "d7f8df85",
        "outputId": "4ae41faf-7b7f-4e9c-9fd8-dc7f51ed394b"
      },
      "outputs": [
        {
          "data": {
            "text/plain": [
              "113"
            ]
          },
          "execution_count": 3,
          "metadata": {},
          "output_type": "execute_result"
        }
      ],
      "source": [
        "cv2.imshow(\"Identifying_Shapes\",image)\n",
        "cv2.waitKey(0)"
      ]
    },
    {
      "cell_type": "code",
      "execution_count": null,
      "id": "26b93e33",
      "metadata": {
        "id": "26b93e33"
      },
      "outputs": [],
      "source": [
        "ret,thresh=cv2.threshold(gray,27,255,1)"
      ]
    },
    {
      "cell_type": "code",
      "execution_count": null,
      "id": "1ee33590",
      "metadata": {
        "id": "1ee33590"
      },
      "outputs": [],
      "source": [
        "contours,hierarchy=cv2.findContours(thresh.copy(),cv2.RETR_LIST,cv2.CHAIN_APPROX_NONE)"
      ]
    },
    {
      "cell_type": "code",
      "execution_count": null,
      "id": "bd7f1dbc",
      "metadata": {
        "id": "bd7f1dbc"
      },
      "outputs": [],
      "source": [
        "for cnt in contours:\n",
        "    approx=cv2.approxPolyDP(cnt,0.01*cv2.arcLength(cnt,True),True)\n",
        "    if len(approx)==3:\n",
        "        shape_name='Triangle'\n",
        "        cv2.drawContours(image,[cnt],0,(0,255,0),-1)\n",
        "        M=cv2.moments(cnt)\n",
        "        cx=int(M['m10']/M['m00'])\n",
        "        cy=int(M['m01']/M['m00'])\n",
        "\n",
        "    elif len(approx)==4:\n",
        "        x,y,w,h=cv2.boundingRect(cnt)\n",
        "        M=cv2.moments(cnt)\n",
        "        cx=int(M['m10']/M['m00'])\n",
        "        cy=int(M['m01']/M['m00'])\n",
        "\n",
        "        if abs(w-h)<=3:\n",
        "            shape_name='Square'\n",
        "\n",
        "            cv2.drawContours(image,[cnt],0,(0,125,255),-1)\n",
        "            cv2.putText(image,shape_name,(cx-50,cy),cv2.FONT_HERSHEY_SIMPLEX,1,(0,0,0),1)\n",
        "\n",
        "        else:\n",
        "            shape_name='Rectangle'\n",
        "\n",
        "    elif len(approx)==10:\n",
        "        shape_name='Star'\n",
        "        cv2.drawContours(image,[cnt],0,(255,255,0),-1)\n",
        "        M=cv2.moments(cnt)\n",
        "        cx=int(M['m10']/M['m00'])\n",
        "        cy=int(M['m01']/M['m00'])\n",
        "        cv2.putText(image,shape_name,(cx-50,cy),cv2.FONT_HERSHEY_SIMPLEX,1,(0,0,0),1)\n",
        "\n",
        "    elif len(approx)==15:\n",
        "        shape_name='Circle'\n",
        "        cv2.drawContours(image,[cnt],0,(0,255,255),-1)\n",
        "        M=cv2.moments(cnt)\n",
        "        cx=int(M['m10']/M['m00'])\n",
        "        cy=int(M['m01']/M['m00'])\n",
        "        cv2.putText(image,shape_name,(cx-50,cy),cv2.FONT_HERSHEY_SIMPLEX,1,(0,0,0),1)\n",
        "\n",
        "    cv2.imshow(\"Identifying_Shapes\",image)\n",
        "    cv2.waitKey(0)"
      ]
    },
    {
      "cell_type": "code",
      "execution_count": null,
      "id": "d5935ac4",
      "metadata": {
        "id": "d5935ac4"
      },
      "outputs": [],
      "source": [
        "cv2.destroyAllWindows()"
      ]
    }
  ],
  "metadata": {
    "kernelspec": {
      "display_name": "Python 3 (ipykernel)",
      "language": "python",
      "name": "python3"
    },
    "language_info": {
      "codemirror_mode": {
        "name": "ipython",
        "version": 3
      },
      "file_extension": ".py",
      "mimetype": "text/x-python",
      "name": "python",
      "nbconvert_exporter": "python",
      "pygments_lexer": "ipython3",
      "version": "3.11.3"
    },
    "colab": {
      "provenance": [],
      "include_colab_link": true
    }
  },
  "nbformat": 4,
  "nbformat_minor": 5
}