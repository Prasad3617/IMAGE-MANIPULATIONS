{
  "cells": [
    {
      "cell_type": "markdown",
      "metadata": {
        "id": "view-in-github",
        "colab_type": "text"
      },
      "source": [
        "<a href=\"https://colab.research.google.com/github/Prasad3617/IMAGE-MANIPULATIONS/blob/main/Corner_Detection.ipynb\" target=\"_parent\"><img src=\"https://colab.research.google.com/assets/colab-badge.svg\" alt=\"Open In Colab\"/></a>"
      ]
    },
    {
      "cell_type": "markdown",
      "id": "40fad63d",
      "metadata": {
        "id": "40fad63d"
      },
      "source": [
        "## Method-1: Harris Corner Detection"
      ]
    },
    {
      "cell_type": "code",
      "execution_count": null,
      "id": "ef3e92b4",
      "metadata": {
        "id": "ef3e92b4"
      },
      "outputs": [],
      "source": [
        "import cv2                                                             #importing necessary libraries\n",
        "import numpy as np"
      ]
    },
    {
      "cell_type": "code",
      "execution_count": null,
      "id": "2e239bcd",
      "metadata": {
        "id": "2e239bcd"
      },
      "outputs": [],
      "source": [
        "image=cv2.imread(\"8.png\")                                              #loading our input image"
      ]
    },
    {
      "cell_type": "code",
      "execution_count": null,
      "id": "c39b5e7b",
      "metadata": {
        "id": "c39b5e7b",
        "outputId": "1a9b206b-a22c-4103-f948-f86d290f1efd"
      },
      "outputs": [
        {
          "data": {
            "text/plain": [
              "113"
            ]
          },
          "execution_count": 3,
          "metadata": {},
          "output_type": "execute_result"
        }
      ],
      "source": [
        "cv2.imshow(\"Original_Image\",image)                                     #displaying original image\n",
        "cv2.waitKey(0)"
      ]
    },
    {
      "cell_type": "code",
      "execution_count": null,
      "id": "e5110379",
      "metadata": {
        "id": "e5110379"
      },
      "outputs": [],
      "source": [
        "gray=cv2.cvtColor(image,cv2.COLOR_BGR2GRAY)                            #conerting our image to grayscale image"
      ]
    },
    {
      "cell_type": "code",
      "execution_count": null,
      "id": "bbbcaafe",
      "metadata": {
        "id": "bbbcaafe"
      },
      "outputs": [],
      "source": [
        "gray=np.float32(gray)                                                  #storing it as array for harris_corner detection\n",
        "harris_corners=cv2.cornerHarris(gray,3,3,0.05)"
      ]
    },
    {
      "cell_type": "code",
      "execution_count": null,
      "id": "aeaa3644",
      "metadata": {
        "id": "aeaa3644"
      },
      "outputs": [],
      "source": [
        "kernel=np.ones((7,7),np.uint8)                                         #dilating the corners to enlarge them\n",
        "harris_corners=cv2.dilate(harris_corners,kernel,iterations=2)"
      ]
    },
    {
      "cell_type": "code",
      "execution_count": null,
      "id": "68ca5db3",
      "metadata": {
        "id": "68ca5db3"
      },
      "outputs": [],
      "source": [
        "image[harris_corners>0.025*harris_corners.max()]=[255,127,127]         #highlighting corners in purple/violet colour"
      ]
    },
    {
      "cell_type": "code",
      "execution_count": null,
      "id": "f84bb6d8",
      "metadata": {
        "id": "f84bb6d8"
      },
      "outputs": [],
      "source": [
        "cv2.imshow(\"Harris Corners\",image)\n",
        "cv2.waitKey(0)"
      ]
    },
    {
      "cell_type": "code",
      "execution_count": null,
      "id": "db5ced1c",
      "metadata": {
        "id": "db5ced1c"
      },
      "outputs": [],
      "source": [
        "cv2.destroyAllWindows()"
      ]
    }
  ],
  "metadata": {
    "kernelspec": {
      "display_name": "Python 3 (ipykernel)",
      "language": "python",
      "name": "python3"
    },
    "language_info": {
      "codemirror_mode": {
        "name": "ipython",
        "version": 3
      },
      "file_extension": ".py",
      "mimetype": "text/x-python",
      "name": "python",
      "nbconvert_exporter": "python",
      "pygments_lexer": "ipython3",
      "version": "3.11.3"
    },
    "colab": {
      "provenance": [],
      "include_colab_link": true
    }
  },
  "nbformat": 4,
  "nbformat_minor": 5
}