{
  "cells": [
    {
      "cell_type": "markdown",
      "metadata": {
        "id": "view-in-github",
        "colab_type": "text"
      },
      "source": [
        "<a href=\"https://colab.research.google.com/github/Prasad3617/IMAGE-MANIPULATIONS/blob/main/Image_Cropping.ipynb\" target=\"_parent\"><img src=\"https://colab.research.google.com/assets/colab-badge.svg\" alt=\"Open In Colab\"/></a>"
      ]
    },
    {
      "cell_type": "markdown",
      "id": "42546175",
      "metadata": {
        "id": "42546175"
      },
      "source": [
        "# Cropping an Image"
      ]
    },
    {
      "cell_type": "code",
      "execution_count": null,
      "id": "32cd64e8",
      "metadata": {
        "id": "32cd64e8"
      },
      "outputs": [],
      "source": [
        "import cv2           #importing necessary libraries\n",
        "import numpy as np"
      ]
    },
    {
      "cell_type": "code",
      "execution_count": null,
      "id": "48981f61",
      "metadata": {
        "id": "48981f61"
      },
      "outputs": [],
      "source": [
        "image=cv2.imread(\"image.png\")      #reading the image file to perform cropping operation"
      ]
    },
    {
      "cell_type": "code",
      "execution_count": null,
      "id": "083df8a9",
      "metadata": {
        "id": "083df8a9"
      },
      "outputs": [],
      "source": [
        "height,width=image.shape[:2]       #storing the height and width of the image in a matrix"
      ]
    },
    {
      "cell_type": "code",
      "execution_count": null,
      "id": "78722197",
      "metadata": {
        "id": "78722197"
      },
      "outputs": [],
      "source": [
        "start_row,start_col=int(height*0.25),int(width*0.25)   #getting the coordinates for starting pixels"
      ]
    },
    {
      "cell_type": "code",
      "execution_count": null,
      "id": "a4c968ac",
      "metadata": {
        "id": "a4c968ac"
      },
      "outputs": [],
      "source": [
        "end_row,end_col=int(height*0.75),int(width*0.75)   #getting the coordinates for ending pixels"
      ]
    },
    {
      "cell_type": "code",
      "execution_count": null,
      "id": "e8399f64",
      "metadata": {
        "id": "e8399f64"
      },
      "outputs": [],
      "source": [
        "cropped_image=image[start_row:end_row,start_col:end_col]    #indexing to crop our desired rectangle"
      ]
    },
    {
      "cell_type": "code",
      "execution_count": null,
      "id": "9e604daf",
      "metadata": {
        "id": "9e604daf",
        "outputId": "296e1ae7-8980-4aea-fe1d-51d31ce99e8a"
      },
      "outputs": [
        {
          "data": {
            "text/plain": [
              "113"
            ]
          },
          "execution_count": 7,
          "metadata": {},
          "output_type": "execute_result"
        }
      ],
      "source": [
        "cv2.imshow(\"Original_Image\",image)    #displaying the original image in the output\n",
        "cv2.waitKey(0)"
      ]
    },
    {
      "cell_type": "code",
      "execution_count": null,
      "id": "c32ce743",
      "metadata": {
        "id": "c32ce743",
        "outputId": "3f05cff4-9f0d-430e-a5c7-0dac552b24c1"
      },
      "outputs": [
        {
          "data": {
            "text/plain": [
              "113"
            ]
          },
          "execution_count": 8,
          "metadata": {},
          "output_type": "execute_result"
        }
      ],
      "source": [
        "cv2.imshow(\"Cropped_Image\",cropped_image)    #displaying the cropped image in the output\n",
        "cv2.waitKey(0)"
      ]
    },
    {
      "cell_type": "code",
      "execution_count": null,
      "id": "d9c308cd",
      "metadata": {
        "id": "d9c308cd"
      },
      "outputs": [],
      "source": [
        "cv2.destroyAllWindows()"
      ]
    },
    {
      "cell_type": "code",
      "execution_count": null,
      "id": "6798df45",
      "metadata": {
        "id": "6798df45",
        "outputId": "feac5449-f102-4fa0-c8c9-e081588258ef"
      },
      "outputs": [
        {
          "name": "stdout",
          "output_type": "stream",
          "text": [
            "The size of our Original_Image is: (1800, 2880)\n"
          ]
        }
      ],
      "source": [
        "print(\"The size of our Original_Image is:\",image.shape[:2])"
      ]
    },
    {
      "cell_type": "code",
      "execution_count": null,
      "id": "15c5094f",
      "metadata": {
        "id": "15c5094f",
        "outputId": "4b666f62-83cc-4e1e-ed07-62f3ccd45b47"
      },
      "outputs": [
        {
          "name": "stdout",
          "output_type": "stream",
          "text": [
            "The size of our Cropped_Image is: (900, 1440)\n"
          ]
        }
      ],
      "source": [
        "print(\"The size of our Cropped_Image is:\",cropped_image.shape[:2])"
      ]
    },
    {
      "cell_type": "code",
      "execution_count": null,
      "id": "7086ebc3",
      "metadata": {
        "id": "7086ebc3"
      },
      "outputs": [],
      "source": []
    }
  ],
  "metadata": {
    "kernelspec": {
      "display_name": "Python 3 (ipykernel)",
      "language": "python",
      "name": "python3"
    },
    "language_info": {
      "codemirror_mode": {
        "name": "ipython",
        "version": 3
      },
      "file_extension": ".py",
      "mimetype": "text/x-python",
      "name": "python",
      "nbconvert_exporter": "python",
      "pygments_lexer": "ipython3",
      "version": "3.10.11"
    },
    "colab": {
      "provenance": [],
      "include_colab_link": true
    }
  },
  "nbformat": 4,
  "nbformat_minor": 5
}