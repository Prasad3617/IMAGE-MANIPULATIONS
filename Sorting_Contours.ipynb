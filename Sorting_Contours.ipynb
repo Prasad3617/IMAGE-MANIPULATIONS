{
  "cells": [
    {
      "cell_type": "markdown",
      "metadata": {
        "id": "view-in-github",
        "colab_type": "text"
      },
      "source": [
        "<a href=\"https://colab.research.google.com/github/Prasad3617/IMAGE-MANIPULATIONS/blob/main/Sorting_Contours.ipynb\" target=\"_parent\"><img src=\"https://colab.research.google.com/assets/colab-badge.svg\" alt=\"Open In Colab\"/></a>"
      ]
    },
    {
      "cell_type": "code",
      "execution_count": null,
      "id": "f5a043a4",
      "metadata": {
        "id": "f5a043a4"
      },
      "outputs": [],
      "source": [
        "import cv2                                                 #importing necessary libraries\n",
        "import numpy as np"
      ]
    },
    {
      "cell_type": "code",
      "execution_count": null,
      "id": "93233c64",
      "metadata": {
        "id": "93233c64"
      },
      "outputs": [],
      "source": [
        "image=cv2.imread(\"2.jpg\")                                  #reading our input image"
      ]
    },
    {
      "cell_type": "code",
      "execution_count": null,
      "id": "53611d02",
      "metadata": {
        "id": "53611d02",
        "outputId": "2e06abc4-83bd-4b5c-90ac-607fe9209210"
      },
      "outputs": [
        {
          "data": {
            "text/plain": [
              "113"
            ]
          },
          "execution_count": 3,
          "metadata": {},
          "output_type": "execute_result"
        }
      ],
      "source": [
        "cv2.imshow(\"Original Image\",image)                         #displaying our original image\n",
        "cv2.waitKey(0)"
      ]
    },
    {
      "cell_type": "code",
      "execution_count": null,
      "id": "cb610d88",
      "metadata": {
        "id": "cb610d88"
      },
      "outputs": [],
      "source": [
        "black_image=np.zeros((image.shape[0],image.shape[1],3))    #creating a black image with the same dimensions as our loaded image"
      ]
    },
    {
      "cell_type": "code",
      "execution_count": null,
      "id": "0799cbfc",
      "metadata": {
        "id": "0799cbfc"
      },
      "outputs": [],
      "source": [
        "original_image=image                                       #creating a copy of our original image"
      ]
    },
    {
      "cell_type": "code",
      "execution_count": null,
      "id": "0c1c4ff1",
      "metadata": {
        "id": "0c1c4ff1"
      },
      "outputs": [],
      "source": [
        "gray=cv2.cvtColor(image,cv2.COLOR_BGR2GRAY)                #generating our grayscale image from the original image"
      ]
    },
    {
      "cell_type": "code",
      "execution_count": null,
      "id": "f751a03c",
      "metadata": {
        "id": "f751a03c",
        "outputId": "ec7a5a0b-ad84-4a74-cdc5-6b5000bb4035"
      },
      "outputs": [
        {
          "data": {
            "text/plain": [
              "113"
            ]
          },
          "execution_count": 7,
          "metadata": {},
          "output_type": "execute_result"
        }
      ],
      "source": [
        "edged=cv2.Canny(image,50,200)                              #finding canny edges\n",
        "cv2.imshow(\"Canny Edges\",edged)\n",
        "cv2.waitKey(0)"
      ]
    },
    {
      "cell_type": "code",
      "execution_count": null,
      "id": "11f5b162",
      "metadata": {
        "id": "11f5b162",
        "outputId": "1454898c-f5b4-44b4-d403-46012fc9a4c0"
      },
      "outputs": [
        {
          "name": "stdout",
          "output_type": "stream",
          "text": [
            "The number of Contours found are:  4888\n"
          ]
        }
      ],
      "source": [
        "contours,hierarchy=cv2.findContours(edged.copy(),cv2.RETR_EXTERNAL,cv2.CHAIN_APPROX_NONE)\n",
        "print(\"The number of Contours found are: \",len(contours))"
      ]
    },
    {
      "cell_type": "code",
      "execution_count": null,
      "id": "f56bee45",
      "metadata": {
        "id": "f56bee45",
        "outputId": "e350c384-1eb2-42a7-d026-ef578db7c82d"
      },
      "outputs": [
        {
          "data": {
            "text/plain": [
              "113"
            ]
          },
          "execution_count": 9,
          "metadata": {},
          "output_type": "execute_result"
        }
      ],
      "source": [
        "cv2.drawContours(black_image,contours,-1,(0,255,0),3)      #drawing all contours over black image\n",
        "cv2.imshow(\"All contours over black image\",black_image)\n",
        "cv2.waitKey(0)"
      ]
    },
    {
      "cell_type": "code",
      "execution_count": null,
      "id": "047980de",
      "metadata": {
        "id": "047980de",
        "outputId": "abe5a28e-4071-410d-fa59-46cb6ffbb53c"
      },
      "outputs": [
        {
          "data": {
            "text/plain": [
              "113"
            ]
          },
          "execution_count": 10,
          "metadata": {},
          "output_type": "execute_result"
        }
      ],
      "source": [
        "cv2.drawContours(image,contours,-1,(0,255,0),3)            #drawing all contours\n",
        "cv2.imshow(\"All contours\",image)\n",
        "cv2.waitKey(0)"
      ]
    },
    {
      "cell_type": "code",
      "execution_count": null,
      "id": "41db69b4",
      "metadata": {
        "id": "41db69b4"
      },
      "outputs": [],
      "source": [
        "cv2.destroyAllWindows()"
      ]
    }
  ],
  "metadata": {
    "kernelspec": {
      "display_name": "Python 3 (ipykernel)",
      "language": "python",
      "name": "python3"
    },
    "language_info": {
      "codemirror_mode": {
        "name": "ipython",
        "version": 3
      },
      "file_extension": ".py",
      "mimetype": "text/x-python",
      "name": "python",
      "nbconvert_exporter": "python",
      "pygments_lexer": "ipython3",
      "version": "3.11.3"
    },
    "colab": {
      "provenance": [],
      "include_colab_link": true
    }
  },
  "nbformat": 4,
  "nbformat_minor": 5
}