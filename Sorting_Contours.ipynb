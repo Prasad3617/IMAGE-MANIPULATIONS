{
  "cells": [
    {
      "cell_type": "markdown",
      "metadata": {
        "id": "view-in-github",
        "colab_type": "text"
      },
      "source": [
        "<a href=\"https://colab.research.google.com/github/Prasad3617/IMAGE-MANIPULATIONS/blob/main/Sorting_Contours.ipynb\" target=\"_parent\"><img src=\"https://colab.research.google.com/assets/colab-badge.svg\" alt=\"Open In Colab\"/></a>"
      ]
    },
    {
      "cell_type": "code",
      "execution_count": null,
      "id": "f5a043a4",
      "metadata": {
        "id": "f5a043a4"
      },
      "outputs": [],
      "source": [
        "import cv2                                                          #importing necessary libraries\n",
        "import numpy as np"
      ]
    },
    {
      "cell_type": "code",
      "execution_count": null,
      "id": "93233c64",
      "metadata": {
        "id": "93233c64"
      },
      "outputs": [],
      "source": [
        "image=cv2.imread(\"3.png\")                                           #reading our input image"
      ]
    },
    {
      "cell_type": "code",
      "execution_count": null,
      "id": "53611d02",
      "metadata": {
        "id": "53611d02",
        "outputId": "92332f70-1c50-47e4-8308-af943c341f88"
      },
      "outputs": [
        {
          "data": {
            "text/plain": [
              "113"
            ]
          },
          "execution_count": 3,
          "metadata": {},
          "output_type": "execute_result"
        }
      ],
      "source": [
        "cv2.imshow(\"Original Image\",image)                                  #displaying our original image\n",
        "cv2.waitKey(0)"
      ]
    },
    {
      "cell_type": "code",
      "execution_count": null,
      "id": "cb610d88",
      "metadata": {
        "id": "cb610d88"
      },
      "outputs": [],
      "source": [
        "black_image=np.zeros((image.shape[0],image.shape[1],3))             #creating a black image with the same dimensions as our loaded image"
      ]
    },
    {
      "cell_type": "code",
      "execution_count": null,
      "id": "0799cbfc",
      "metadata": {
        "id": "0799cbfc"
      },
      "outputs": [],
      "source": [
        "original_image=image                                                #creating a copy of our original image"
      ]
    },
    {
      "cell_type": "code",
      "execution_count": null,
      "id": "0c1c4ff1",
      "metadata": {
        "id": "0c1c4ff1"
      },
      "outputs": [],
      "source": [
        "gray=cv2.cvtColor(image,cv2.COLOR_BGR2GRAY)                         #generating our grayscale image from the original image"
      ]
    },
    {
      "cell_type": "code",
      "execution_count": null,
      "id": "f751a03c",
      "metadata": {
        "id": "f751a03c",
        "outputId": "1961820e-1671-4b29-fa2a-583a106980ec"
      },
      "outputs": [
        {
          "data": {
            "text/plain": [
              "113"
            ]
          },
          "execution_count": 7,
          "metadata": {},
          "output_type": "execute_result"
        }
      ],
      "source": [
        "edged=cv2.Canny(image,50,200)                                            #finding canny edges 50 - lower threshold, 200-higher threshold\n",
        "cv2.imshow(\"Canny Edges\",edged)\n",
        "cv2.waitKey(0)"
      ]
    },
    {
      "cell_type": "code",
      "execution_count": null,
      "id": "11f5b162",
      "metadata": {
        "id": "11f5b162",
        "outputId": "5c345ddf-4c45-4dc2-9fec-d67a39d37e23"
      },
      "outputs": [
        {
          "name": "stdout",
          "output_type": "stream",
          "text": [
            "The number of Contours found are:  297\n"
          ]
        }
      ],
      "source": [
        "contours,hierarchy=cv2.findContours(edged.copy(),cv2.RETR_EXTERNAL,cv2.CHAIN_APPROX_NONE)   # \"RETR_EXTERNAL\" is used to detect only the outer edges\n",
        "print(\"The number of Contours found are: \",len(contours))"
      ]
    },
    {
      "cell_type": "code",
      "execution_count": null,
      "id": "f56bee45",
      "metadata": {
        "id": "f56bee45",
        "outputId": "b2cd2503-0635-4cd0-9cc7-505357ec6640"
      },
      "outputs": [
        {
          "data": {
            "text/plain": [
              "113"
            ]
          },
          "execution_count": 9,
          "metadata": {},
          "output_type": "execute_result"
        }
      ],
      "source": [
        "cv2.drawContours(black_image,contours,-1,(0,255,0),3)               #drawing all contours over black image\n",
        "cv2.imshow(\"All contours over black image\",black_image)\n",
        "cv2.waitKey(0)"
      ]
    },
    {
      "cell_type": "code",
      "execution_count": null,
      "id": "047980de",
      "metadata": {
        "id": "047980de",
        "outputId": "f7856bd6-bbe1-4649-996b-5cc398de0c90"
      },
      "outputs": [
        {
          "data": {
            "text/plain": [
              "113"
            ]
          },
          "execution_count": 10,
          "metadata": {},
          "output_type": "execute_result"
        }
      ],
      "source": [
        "cv2.drawContours(image,contours,-1,(0,255,0),3)                     #drawing all contours over our original image\n",
        "cv2.imshow(\"All contours\",image)\n",
        "cv2.waitKey(0)"
      ]
    },
    {
      "cell_type": "code",
      "execution_count": null,
      "id": "41db69b4",
      "metadata": {
        "id": "41db69b4"
      },
      "outputs": [],
      "source": [
        "cv2.destroyAllWindows()"
      ]
    },
    {
      "cell_type": "markdown",
      "id": "d099f538",
      "metadata": {
        "id": "d099f538"
      },
      "source": [
        "## Lets now sort by area"
      ]
    },
    {
      "cell_type": "code",
      "execution_count": null,
      "id": "7146e099",
      "metadata": {
        "id": "7146e099"
      },
      "outputs": [],
      "source": [
        "import cv2                                                          #importing necessary libraries\n",
        "import numpy as np"
      ]
    },
    {
      "cell_type": "code",
      "execution_count": null,
      "id": "15b45b2f",
      "metadata": {
        "id": "15b45b2f"
      },
      "outputs": [],
      "source": [
        "def get_contour_areas(contours):                                    #function to display contour area\n",
        "    all_areas=[]\n",
        "    for cnt in contours:\n",
        "        area=cv2.contourArea(cnt)\n",
        "        all_areas.append(area)\n",
        "    return all_areas"
      ]
    },
    {
      "cell_type": "code",
      "execution_count": null,
      "id": "0c22f1a6",
      "metadata": {
        "id": "0c22f1a6"
      },
      "outputs": [],
      "source": [
        "image=cv2.imread(\"3.png\")                                           #reading our input image\n",
        "original_image=image"
      ]
    },
    {
      "cell_type": "code",
      "execution_count": null,
      "id": "32259324",
      "metadata": {
        "id": "32259324",
        "outputId": "c895db90-16da-4764-e5a8-1967319e1863"
      },
      "outputs": [
        {
          "name": "stdout",
          "output_type": "stream",
          "text": [
            "Contour Areas before Sorting\n",
            "[0.0, 336.5, 227.0, 100.0, 212.5, 15.0, 140.5, 100.0, 200.5, 100.0, 338.0, 212.0, 213.0, 174.5, 321.0, 117.0, 174.5, 242.5, 121.0, 257.0, 220.5, 146.0, 17.0, 390.0, 18.0, 135.0, 18.0, 18.0, 278.0, 19.0, 162.0, 135.0, 231.0, 135.0, 325.0, 164.5, 184.0, 199.5, 99.0, 17739.0, 17851.0, 15642.5, 17777.5, 21.0, 0.0, 11.0, 0.0, 178.0, 231.0, 233.5, 118.5, 243.5, 257.0, 340.0, 221.5, 192.5, 223.0, 228.0, 250.0, 358.0, 21.0, 101.0, 120.0, 256.0, 161.0, 218.5, 302.5, 229.5, 131.0, 232.0, 256.0, 118.0, 225.0, 194.0, 102.5, 315.5, 118.0, 228.5, 0.5, 1.5, 0.5, 0.5, 19.0, 16.0, 18.0, 2.5, 1.5, 20.0, 185.5, 17.0, 20.5, 185.5, 440.5, 306.5, 430.0, 307.5, 201.5, 139.0, 162.5, 5.5, 15742.5, 13977.0, 12748.5, 14471.5, 17571.5, 13.5, 0.0, 0.0, 0.0, 228.5, 221.0, 200.0, 176.0, 213.5, 139.0, 128.0, 19.0, 3.5, 216.0, 231.0, 120.5, 5.5, 220.5, 237.5, 12.5, 256.0, 145.5, 145.0, 164.0, 307.0, 163.5, 275.5, 16.0, 320.0, 137.5, 294.5, 307.5, 289.5, 307.0, 10109.5, 123.5, 8903.0, 11906.0, 13886.0, 603.0, 132.0, 218.0, 3.0, 242.5, 251.0, 337.5, 227.0, 274.5, 217.5, 226.0, 222.0, 214.0, 190.5, 130.5, 102.0, 182.0, 280.5, 157.5, 160.0, 417.0, 15.0, 304.0, 375.0, 163.0, 287.5, 15366.0, 8806.5, 12977.0, 14632.0, 14246.5, 26.0, 22.5, 22.0, 19.5, 20.0, 14.0, 220.5, 5.5, 222.5, 247.0, 315.0, 352.0, 220.5, 142.5, 252.0, 216.0, 224.0, 7.5, 217.0, 215.5, 224.0, 219.5, 119.0, 144.5, 329.0, 329.0, 216.0, 229.5, 220.0, 118.0, 145.0, 100.0, 225.5, 224.5, 225.0, 116.5, 143.5, 222.5, 229.5, 216.5, 230.0, 197.5, 20.5, 20.0, 22.0, 280.5, 20.5, 163.0, 139.0, 138.0, 299.5, 178.0, 169.5, 180.0, 160.5, 205.5, 19.0, 20.0, 20.0, 162.0, 265.5, 395.0, 139.0, 163.5, 280.0, 0.0, 16430.5, 198.0, 19599.5, 141.0, 11111.0, 0.0, 0.0, 0.0, 0.0, 0.0, 0.0, 14.5, 13.5, 258.5, 300.0, 15.5, 12.0, 265.0, 255.5, 300.0, 13.0, 372.5, 259.5, 286.5, 297.0, 255.5, 252.5, 298.5, 211.0, 269.0, 402.0, 297.0, 397.0, 393.5, 394.5, 270.5, 287.5, 262.0, 231.5, 395.0, 0.5, 209.0, 443.0, 445.5, 207.5, 9.0, 395.0, 322.0, 460.5, 506.0, 16512.0, 17025.5, 16775.5, 18911.5, 10992.5, 1.0]\n"
          ]
        }
      ],
      "source": [
        "print(\"Contour Areas before Sorting\")\n",
        "print(get_contour_areas(contours))"
      ]
    },
    {
      "cell_type": "code",
      "execution_count": null,
      "id": "b6afa27c",
      "metadata": {
        "id": "b6afa27c"
      },
      "outputs": [],
      "source": [
        "sorted_contours=sorted(contours,key=cv2.contourArea,reverse=True)   #sort contours large to small i.e. decreasing order by area"
      ]
    },
    {
      "cell_type": "code",
      "execution_count": null,
      "id": "5a1c0482",
      "metadata": {
        "id": "5a1c0482",
        "outputId": "490f97ec-3a0b-40de-bb4b-b347c0ac21f8"
      },
      "outputs": [
        {
          "name": "stdout",
          "output_type": "stream",
          "text": [
            "Contour Areas after Sorting\n",
            "[19599.5, 18911.5, 17851.0, 17777.5, 17739.0, 17571.5, 17025.5, 16775.5, 16512.0, 16430.5, 15742.5, 15642.5, 15366.0, 14632.0, 14471.5, 14246.5, 13977.0, 13886.0, 12977.0, 12748.5, 11906.0, 11111.0, 10992.5, 10109.5, 8903.0, 8806.5, 603.0, 506.0, 460.5, 445.5, 443.0, 440.5, 430.0, 417.0, 402.0, 397.0, 395.0, 395.0, 395.0, 394.5, 393.5, 390.0, 375.0, 372.5, 358.0, 352.0, 340.0, 338.0, 337.5, 336.5, 329.0, 329.0, 325.0, 322.0, 321.0, 320.0, 315.5, 315.0, 307.5, 307.5, 307.0, 307.0, 306.5, 304.0, 302.5, 300.0, 300.0, 299.5, 298.5, 297.0, 297.0, 294.5, 289.5, 287.5, 287.5, 286.5, 280.5, 280.5, 280.0, 278.0, 275.5, 274.5, 270.5, 269.0, 265.5, 265.0, 262.0, 259.5, 258.5, 257.0, 257.0, 256.0, 256.0, 256.0, 255.5, 255.5, 252.5, 252.0, 251.0, 250.0, 247.0, 243.5, 242.5, 242.5, 237.5, 233.5, 232.0, 231.5, 231.0, 231.0, 231.0, 230.0, 229.5, 229.5, 229.5, 228.5, 228.5, 228.0, 227.0, 227.0, 226.0, 225.5, 225.0, 225.0, 224.5, 224.0, 224.0, 223.0, 222.5, 222.5, 222.0, 221.5, 221.0, 220.5, 220.5, 220.5, 220.5, 220.0, 219.5, 218.5, 218.0, 217.5, 217.0, 216.5, 216.0, 216.0, 216.0, 215.5, 214.0, 213.5, 213.0, 212.5, 212.0, 211.0, 209.0, 207.5, 205.5, 201.5, 200.5, 200.0, 199.5, 198.0, 197.5, 194.0, 192.5, 190.5, 185.5, 185.5, 184.0, 182.0, 180.0, 178.0, 178.0, 176.0, 174.5, 174.5, 169.5, 164.5, 164.0, 163.5, 163.5, 163.0, 163.0, 162.5, 162.0, 162.0, 161.0, 160.5, 160.0, 157.5, 146.0, 145.5, 145.0, 145.0, 144.5, 143.5, 142.5, 141.0, 140.5, 139.0, 139.0, 139.0, 139.0, 138.0, 137.5, 135.0, 135.0, 135.0, 132.0, 131.0, 130.5, 128.0, 123.5, 121.0, 120.5, 120.0, 119.0, 118.5, 118.0, 118.0, 118.0, 117.0, 116.5, 102.5, 102.0, 101.0, 100.0, 100.0, 100.0, 100.0, 99.0, 26.0, 22.5, 22.0, 22.0, 21.0, 21.0, 20.5, 20.5, 20.5, 20.0, 20.0, 20.0, 20.0, 20.0, 19.5, 19.0, 19.0, 19.0, 19.0, 18.0, 18.0, 18.0, 18.0, 17.0, 17.0, 16.0, 16.0, 15.5, 15.0, 15.0, 14.5, 14.0, 13.5, 13.5, 13.0, 12.5, 12.0, 11.0, 9.0, 7.5, 5.5, 5.5, 5.5, 3.5, 3.0, 2.5, 1.5, 1.5, 1.0, 0.5, 0.5, 0.5, 0.5, 0.0, 0.0, 0.0, 0.0, 0.0, 0.0, 0.0, 0.0, 0.0, 0.0, 0.0, 0.0, 0.0]\n"
          ]
        }
      ],
      "source": [
        "print(\"Contour Areas after Sorting\")\n",
        "print(get_contour_areas(sorted_contours))"
      ]
    },
    {
      "cell_type": "code",
      "execution_count": null,
      "id": "058ab921",
      "metadata": {
        "id": "058ab921"
      },
      "outputs": [],
      "source": [
        "for c in sorted_contours:\n",
        "    cv2.drawContours(original_image,[c],-1,(0,0,255),3)\n",
        "    cv2.waitKey(0)\n",
        "    cv2.imshow(\"Contours by area\",original_image)"
      ]
    },
    {
      "cell_type": "code",
      "execution_count": null,
      "id": "f272afc9",
      "metadata": {
        "id": "f272afc9",
        "outputId": "9ca0126a-bccb-4fc2-ccce-73860afa5f9b"
      },
      "outputs": [
        {
          "data": {
            "text/plain": [
              "113"
            ]
          },
          "execution_count": 19,
          "metadata": {},
          "output_type": "execute_result"
        }
      ],
      "source": [
        "cv2.waitKey(0)"
      ]
    },
    {
      "cell_type": "code",
      "execution_count": null,
      "id": "d1c5a811",
      "metadata": {
        "id": "d1c5a811"
      },
      "outputs": [],
      "source": [
        "cv2.destroyAllWindows()"
      ]
    }
  ],
  "metadata": {
    "kernelspec": {
      "display_name": "Python 3 (ipykernel)",
      "language": "python",
      "name": "python3"
    },
    "language_info": {
      "codemirror_mode": {
        "name": "ipython",
        "version": 3
      },
      "file_extension": ".py",
      "mimetype": "text/x-python",
      "name": "python",
      "nbconvert_exporter": "python",
      "pygments_lexer": "ipython3",
      "version": "3.11.3"
    },
    "colab": {
      "provenance": [],
      "include_colab_link": true
    }
  },
  "nbformat": 4,
  "nbformat_minor": 5
}