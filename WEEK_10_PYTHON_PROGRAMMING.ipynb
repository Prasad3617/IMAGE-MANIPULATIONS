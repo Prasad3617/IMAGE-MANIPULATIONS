{
  "cells": [
    {
      "cell_type": "markdown",
      "metadata": {
        "id": "view-in-github",
        "colab_type": "text"
      },
      "source": [
        "<a href=\"https://colab.research.google.com/github/Prasad3617/IMAGE-MANIPULATIONS/blob/main/WEEK_10_PYTHON_PROGRAMMING.ipynb\" target=\"_parent\"><img src=\"https://colab.research.google.com/assets/colab-badge.svg\" alt=\"Open In Colab\"/></a>"
      ]
    },
    {
      "cell_type": "markdown",
      "id": "46148a6e",
      "metadata": {
        "id": "46148a6e"
      },
      "source": [
        "# Numpy"
      ]
    },
    {
      "cell_type": "code",
      "execution_count": null,
      "id": "5ec22702",
      "metadata": {
        "id": "5ec22702"
      },
      "outputs": [],
      "source": [
        "import numpy as np   #importing necessary library"
      ]
    },
    {
      "cell_type": "code",
      "execution_count": null,
      "id": "3be3bc8f",
      "metadata": {
        "id": "3be3bc8f"
      },
      "outputs": [],
      "source": [
        "a1=np.array([1,2,3])\n",
        "\n",
        "a2=np.array([[1,2,3],\n",
        "             [4,5,6],\n",
        "             [7,8,9]])"
      ]
    },
    {
      "cell_type": "code",
      "execution_count": null,
      "id": "69bac852",
      "metadata": {
        "id": "69bac852",
        "outputId": "04dd4077-d1e8-4d6e-a128-a2581dfa1fcc"
      },
      "outputs": [
        {
          "name": "stdout",
          "output_type": "stream",
          "text": [
            "\n",
            "a1: [1 2 3]\n"
          ]
        }
      ],
      "source": [
        "print(\"\\na1:\",a1)"
      ]
    },
    {
      "cell_type": "code",
      "execution_count": null,
      "id": "bf218d58",
      "metadata": {
        "id": "bf218d58",
        "outputId": "550c9e58-be76-4ac6-fb87-fdb769853431"
      },
      "outputs": [
        {
          "name": "stdout",
          "output_type": "stream",
          "text": [
            "\n",
            "a2: [[1 2 3]\n",
            " [4 5 6]\n",
            " [7 8 9]]\n"
          ]
        }
      ],
      "source": [
        "print(\"\\na2:\",a2)"
      ]
    },
    {
      "cell_type": "markdown",
      "id": "e4f8392d",
      "metadata": {
        "id": "e4f8392d"
      },
      "source": [
        "## datatype of the array"
      ]
    },
    {
      "cell_type": "code",
      "execution_count": null,
      "id": "ec063c8c",
      "metadata": {
        "id": "ec063c8c",
        "outputId": "ac8382a3-a042-4b94-e649-c07a0935dac6"
      },
      "outputs": [
        {
          "name": "stdout",
          "output_type": "stream",
          "text": [
            "\n",
            "The datatype of the array a1 is: int64\n",
            "\n",
            "The datatype of the array a2 is: int64\n"
          ]
        }
      ],
      "source": [
        "print(\"\\nThe datatype of the array a1 is:\",a1.dtype)\n",
        "print(\"\\nThe datatype of the array a2 is:\",a2.dtype)"
      ]
    },
    {
      "cell_type": "markdown",
      "id": "dd513a35",
      "metadata": {
        "id": "dd513a35"
      },
      "source": [
        "## shape of the array"
      ]
    },
    {
      "cell_type": "code",
      "execution_count": null,
      "id": "2857f30f",
      "metadata": {
        "id": "2857f30f",
        "outputId": "25549f54-1ef7-472b-82b9-e34b366ed4ff"
      },
      "outputs": [
        {
          "name": "stdout",
          "output_type": "stream",
          "text": [
            "\n",
            "The shape of the array a1 is: (3,)\n",
            "\n",
            "The shape of the array a2 is: (3, 3)\n"
          ]
        }
      ],
      "source": [
        "print(\"\\nThe shape of the array a1 is:\",a1.shape)\n",
        "print(\"\\nThe shape of the array a2 is:\",a2.shape)"
      ]
    },
    {
      "cell_type": "markdown",
      "id": "b8df8784",
      "metadata": {
        "id": "b8df8784"
      },
      "source": [
        "## reshape an array"
      ]
    },
    {
      "cell_type": "code",
      "execution_count": null,
      "id": "d8434e50",
      "metadata": {
        "id": "d8434e50",
        "outputId": "02fdf46d-d35b-48ec-cdbb-d7822635e141"
      },
      "outputs": [
        {
          "name": "stdout",
          "output_type": "stream",
          "text": [
            "\n",
            "The original array a2 is:\n",
            " [[1 2 3]\n",
            " [4 5 6]\n",
            " [7 8 9]]\n",
            "\n",
            "The modified array a2 or a3 is:\n",
            " [[1]\n",
            " [2]\n",
            " [3]\n",
            " [4]\n",
            " [5]\n",
            " [6]\n",
            " [7]\n",
            " [8]\n",
            " [9]]\n"
          ]
        }
      ],
      "source": [
        "a3=a2.reshape(9,1)\n",
        "print(\"\\nThe original array a2 is:\\n\",a2)\n",
        "print(\"\\nThe modified array a2 or a3 is:\\n\",a3)"
      ]
    },
    {
      "cell_type": "code",
      "execution_count": null,
      "id": "012de743",
      "metadata": {
        "id": "012de743",
        "outputId": "d5cad204-2357-4299-d76d-18bf5c1de8c3"
      },
      "outputs": [
        {
          "name": "stdout",
          "output_type": "stream",
          "text": [
            "\n",
            "The array of string datatype is:\n",
            " ['Sunday' 'Monday' 'Tuesday' 'Wednesday' 'Thursday' 'Friday' 'Saturday']\n"
          ]
        }
      ],
      "source": [
        "# an array of string datatype\n",
        "\n",
        "str_arr=np.array([\"Sunday\",\"Monday\",\"Tuesday\",\"Wednesday\",\"Thursday\",\"Friday\",\"Saturday\"])\n",
        "print(\"\\nThe array of string datatype is:\\n\",str_arr)"
      ]
    },
    {
      "cell_type": "markdown",
      "id": "875cd80f",
      "metadata": {
        "id": "875cd80f"
      },
      "source": [
        "## Array Creation Methods"
      ]
    },
    {
      "cell_type": "markdown",
      "id": "efa98aff",
      "metadata": {
        "id": "efa98aff"
      },
      "source": [
        "### using \"np.empty()\""
      ]
    },
    {
      "cell_type": "code",
      "execution_count": null,
      "id": "e94e213d",
      "metadata": {
        "id": "e94e213d"
      },
      "outputs": [],
      "source": [
        "ar1=np.empty([3,3],int,'C')"
      ]
    },
    {
      "cell_type": "code",
      "execution_count": null,
      "id": "89e896bd",
      "metadata": {
        "id": "89e896bd",
        "outputId": "0e8e8cc7-f872-42da-adc3-d069cbe01a2d"
      },
      "outputs": [
        {
          "name": "stdout",
          "output_type": "stream",
          "text": [
            "[[ 4607825790175356063 -4611042647052049244  4603322190547985583]\n",
            " [-4611042647052049245  4617283349392834113 -4613744806828471525]\n",
            " [ 4603322190547985580 -4613744806828471527  4606153024599475607]]\n"
          ]
        }
      ],
      "source": [
        "print(ar1)"
      ]
    },
    {
      "cell_type": "markdown",
      "id": "872a40af",
      "metadata": {
        "id": "872a40af"
      },
      "source": [
        "### using \"np.zeros()\""
      ]
    },
    {
      "cell_type": "code",
      "execution_count": null,
      "id": "eaa9659e",
      "metadata": {
        "id": "eaa9659e"
      },
      "outputs": [],
      "source": [
        "ar2=np.zeros([3,3],float,'C')"
      ]
    },
    {
      "cell_type": "code",
      "execution_count": null,
      "id": "ce9e5ffc",
      "metadata": {
        "id": "ce9e5ffc",
        "outputId": "a6ae2bfe-3d1a-4e92-f2e9-029b2e3dab0a"
      },
      "outputs": [
        {
          "name": "stdout",
          "output_type": "stream",
          "text": [
            "[[0. 0. 0.]\n",
            " [0. 0. 0.]\n",
            " [0. 0. 0.]]\n"
          ]
        }
      ],
      "source": [
        "print(ar2)"
      ]
    },
    {
      "cell_type": "code",
      "execution_count": null,
      "id": "a9314046",
      "metadata": {
        "id": "a9314046"
      },
      "outputs": [],
      "source": [
        "ar21=np.zeros([3,3],int,'C')"
      ]
    },
    {
      "cell_type": "code",
      "execution_count": null,
      "id": "927e3f1d",
      "metadata": {
        "id": "927e3f1d",
        "outputId": "26024a7a-1c76-43ab-c00e-bda0570d96f7"
      },
      "outputs": [
        {
          "name": "stdout",
          "output_type": "stream",
          "text": [
            "[[0 0 0]\n",
            " [0 0 0]\n",
            " [0 0 0]]\n"
          ]
        }
      ],
      "source": [
        "print(ar21)"
      ]
    },
    {
      "cell_type": "code",
      "execution_count": null,
      "id": "8d4d1307",
      "metadata": {
        "id": "8d4d1307"
      },
      "outputs": [],
      "source": [
        "ar22=np.zeros(3,int)"
      ]
    },
    {
      "cell_type": "code",
      "execution_count": null,
      "id": "4d01c413",
      "metadata": {
        "id": "4d01c413",
        "outputId": "aae64d12-e29e-4890-88f8-02eefec003dd"
      },
      "outputs": [
        {
          "name": "stdout",
          "output_type": "stream",
          "text": [
            "[0 0 0]\n"
          ]
        }
      ],
      "source": [
        "print(ar22)"
      ]
    },
    {
      "cell_type": "markdown",
      "id": "97f4b54e",
      "metadata": {
        "id": "97f4b54e"
      },
      "source": [
        "### using \"np.ones()\""
      ]
    },
    {
      "cell_type": "code",
      "execution_count": null,
      "id": "472e36d2",
      "metadata": {
        "id": "472e36d2"
      },
      "outputs": [],
      "source": [
        "ar31=np.ones([3,3],int)"
      ]
    },
    {
      "cell_type": "code",
      "execution_count": null,
      "id": "0f9ce75d",
      "metadata": {
        "id": "0f9ce75d",
        "outputId": "cee18f68-ed14-44d6-ef9e-b0f71abf0ca0"
      },
      "outputs": [
        {
          "name": "stdout",
          "output_type": "stream",
          "text": [
            "[[1 1 1]\n",
            " [1 1 1]\n",
            " [1 1 1]]\n"
          ]
        }
      ],
      "source": [
        "print(ar31)"
      ]
    },
    {
      "cell_type": "markdown",
      "id": "72477f59",
      "metadata": {
        "id": "72477f59"
      },
      "source": [
        "### using \"np.asarrays\""
      ]
    },
    {
      "cell_type": "code",
      "execution_count": null,
      "id": "487beb18",
      "metadata": {
        "id": "487beb18"
      },
      "outputs": [],
      "source": [
        "ar4=[1,2,3]   #a python list"
      ]
    },
    {
      "cell_type": "code",
      "execution_count": null,
      "id": "5936f045",
      "metadata": {
        "id": "5936f045",
        "outputId": "c3147819-54b7-4b33-9ac0-5e527a0e77e8"
      },
      "outputs": [
        {
          "name": "stdout",
          "output_type": "stream",
          "text": [
            "[1, 2, 3]\n"
          ]
        }
      ],
      "source": [
        "print(ar4)"
      ]
    },
    {
      "cell_type": "code",
      "execution_count": null,
      "id": "396e8d00",
      "metadata": {
        "id": "396e8d00",
        "outputId": "efcf9992-1067-4f3d-e5ab-f4ea3f3b22ba"
      },
      "outputs": [
        {
          "name": "stdout",
          "output_type": "stream",
          "text": [
            "<class 'list'>\n"
          ]
        }
      ],
      "source": [
        "print(type(ar4))"
      ]
    },
    {
      "cell_type": "code",
      "execution_count": null,
      "id": "eeee853f",
      "metadata": {
        "id": "eeee853f"
      },
      "outputs": [],
      "source": [
        "ar41=np.asarray(ar4,dtype=float)"
      ]
    },
    {
      "cell_type": "code",
      "execution_count": null,
      "id": "bc904938",
      "metadata": {
        "id": "bc904938",
        "outputId": "e51ce11d-e53b-4ec8-eb35-400a8b0df52f"
      },
      "outputs": [
        {
          "name": "stdout",
          "output_type": "stream",
          "text": [
            "[1. 2. 3.] <class 'numpy.ndarray'>\n"
          ]
        }
      ],
      "source": [
        "print(ar41,type(ar41))"
      ]
    },
    {
      "cell_type": "code",
      "execution_count": null,
      "id": "d795ee0e",
      "metadata": {
        "id": "d795ee0e",
        "outputId": "4a37c374-9a15-4a30-9153-9cd372043057"
      },
      "outputs": [
        {
          "name": "stdout",
          "output_type": "stream",
          "text": [
            "<class 'numpy.ndarray'>\n"
          ]
        }
      ],
      "source": [
        "print(type(ar41))"
      ]
    },
    {
      "cell_type": "code",
      "execution_count": null,
      "id": "a3586499",
      "metadata": {
        "id": "a3586499"
      },
      "outputs": [],
      "source": [
        "list1=range(5)"
      ]
    },
    {
      "cell_type": "code",
      "execution_count": null,
      "id": "e7594611",
      "metadata": {
        "id": "e7594611",
        "outputId": "e38ef7ba-a57d-436e-ac4f-776d2e82b9c9"
      },
      "outputs": [
        {
          "name": "stdout",
          "output_type": "stream",
          "text": [
            "range(0, 5)\n"
          ]
        }
      ],
      "source": [
        "print(list1)"
      ]
    },
    {
      "cell_type": "code",
      "execution_count": null,
      "id": "98a1174b",
      "metadata": {
        "id": "98a1174b",
        "outputId": "3411d171-817e-4c93-f1b3-5e0aedb9f636"
      },
      "outputs": [
        {
          "name": "stdout",
          "output_type": "stream",
          "text": [
            "0\n",
            "1\n",
            "2\n",
            "3\n",
            "4\n"
          ]
        }
      ],
      "source": [
        "for i in list1:\n",
        "    print(i)"
      ]
    },
    {
      "cell_type": "code",
      "execution_count": null,
      "id": "536ca412",
      "metadata": {
        "id": "536ca412"
      },
      "outputs": [],
      "source": [
        "ar42=np.fromiter(list1,dtype=float)"
      ]
    },
    {
      "cell_type": "code",
      "execution_count": null,
      "id": "928a01e0",
      "metadata": {
        "id": "928a01e0",
        "outputId": "1f775fa4-b1ca-43ff-80f6-a578afd14ea0"
      },
      "outputs": [
        {
          "name": "stdout",
          "output_type": "stream",
          "text": [
            "[0. 1. 2. 3. 4.]\n"
          ]
        }
      ],
      "source": [
        "print(ar42)"
      ]
    },
    {
      "cell_type": "code",
      "execution_count": null,
      "id": "fe80079a",
      "metadata": {
        "id": "fe80079a",
        "outputId": "09b47397-3d20-42eb-a972-74ad9b79ba44"
      },
      "outputs": [
        {
          "name": "stdout",
          "output_type": "stream",
          "text": [
            "<class 'numpy.ndarray'>\n"
          ]
        }
      ],
      "source": [
        "print(type(ar42))"
      ]
    },
    {
      "cell_type": "markdown",
      "id": "b4473e21",
      "metadata": {
        "id": "b4473e21"
      },
      "source": [
        "### Creating arrays from Numerical Ranges"
      ]
    },
    {
      "cell_type": "code",
      "execution_count": null,
      "id": "82d2d042",
      "metadata": {
        "id": "82d2d042"
      },
      "outputs": [],
      "source": [
        "x=np.arange(0,10,2,float)"
      ]
    },
    {
      "cell_type": "code",
      "execution_count": null,
      "id": "05476598",
      "metadata": {
        "id": "05476598",
        "outputId": "53857255-62a6-400a-9922-a2e4fd6122ad"
      },
      "outputs": [
        {
          "name": "stdout",
          "output_type": "stream",
          "text": [
            "[0. 2. 4. 6. 8.]\n"
          ]
        }
      ],
      "source": [
        "print(x)"
      ]
    },
    {
      "cell_type": "code",
      "execution_count": null,
      "id": "4871203b",
      "metadata": {
        "id": "4871203b"
      },
      "outputs": [],
      "source": [
        "y=np.arange(32,145,6,float)"
      ]
    },
    {
      "cell_type": "code",
      "execution_count": null,
      "id": "e13b97a5",
      "metadata": {
        "id": "e13b97a5",
        "outputId": "4657846d-eb23-46ec-95d1-45209cb885e6"
      },
      "outputs": [
        {
          "name": "stdout",
          "output_type": "stream",
          "text": [
            "[ 32.  38.  44.  50.  56.  62.  68.  74.  80.  86.  92.  98. 104. 110.\n",
            " 116. 122. 128. 134. 140.]\n"
          ]
        }
      ],
      "source": [
        "print(y)"
      ]
    },
    {
      "cell_type": "markdown",
      "id": "ca548757",
      "metadata": {
        "id": "ca548757"
      },
      "source": [
        "### Creating arrays from Linspace"
      ]
    },
    {
      "cell_type": "code",
      "execution_count": null,
      "id": "774728e8",
      "metadata": {
        "id": "774728e8"
      },
      "outputs": [],
      "source": [
        "z=np.linspace(10,20,15)"
      ]
    },
    {
      "cell_type": "code",
      "execution_count": null,
      "id": "bab24eda",
      "metadata": {
        "id": "bab24eda",
        "outputId": "4fe06764-0e75-40b1-83a8-4849e831b65a"
      },
      "outputs": [
        {
          "name": "stdout",
          "output_type": "stream",
          "text": [
            "[10.         10.71428571 11.42857143 12.14285714 12.85714286 13.57142857\n",
            " 14.28571429 15.         15.71428571 16.42857143 17.14285714 17.85714286\n",
            " 18.57142857 19.28571429 20.        ]\n"
          ]
        }
      ],
      "source": [
        "print(z)"
      ]
    },
    {
      "cell_type": "markdown",
      "id": "cc6e152f",
      "metadata": {
        "id": "cc6e152f"
      },
      "source": [
        "## Indexing and Slicing"
      ]
    },
    {
      "cell_type": "code",
      "execution_count": null,
      "id": "a2cdf455",
      "metadata": {
        "id": "a2cdf455"
      },
      "outputs": [],
      "source": [
        "a=np.arange(20)"
      ]
    },
    {
      "cell_type": "code",
      "execution_count": null,
      "id": "e16c428c",
      "metadata": {
        "id": "e16c428c",
        "outputId": "33513a3d-7ff9-4fec-a608-ba0466ac7823"
      },
      "outputs": [
        {
          "name": "stdout",
          "output_type": "stream",
          "text": [
            "[ 0  1  2  3  4  5  6  7  8  9 10 11 12 13 14 15 16 17 18 19]\n"
          ]
        }
      ],
      "source": [
        "print(a)"
      ]
    },
    {
      "cell_type": "code",
      "execution_count": null,
      "id": "d898918a",
      "metadata": {
        "id": "d898918a"
      },
      "outputs": [],
      "source": [
        "b=a[2:17:2]"
      ]
    },
    {
      "cell_type": "code",
      "execution_count": null,
      "id": "d491a65a",
      "metadata": {
        "id": "d491a65a",
        "outputId": "00343549-171c-407f-c239-8f6c646abdc5"
      },
      "outputs": [
        {
          "name": "stdout",
          "output_type": "stream",
          "text": [
            "[ 2  4  6  8 10 12 14 16]\n"
          ]
        }
      ],
      "source": [
        "print(b)"
      ]
    },
    {
      "cell_type": "code",
      "execution_count": null,
      "id": "d273d05c",
      "metadata": {
        "id": "d273d05c"
      },
      "outputs": [],
      "source": []
    }
  ],
  "metadata": {
    "kernelspec": {
      "display_name": "Python 3 (ipykernel)",
      "language": "python",
      "name": "python3"
    },
    "language_info": {
      "codemirror_mode": {
        "name": "ipython",
        "version": 3
      },
      "file_extension": ".py",
      "mimetype": "text/x-python",
      "name": "python",
      "nbconvert_exporter": "python",
      "pygments_lexer": "ipython3",
      "version": "3.11.4"
    },
    "colab": {
      "provenance": [],
      "include_colab_link": true
    }
  },
  "nbformat": 4,
  "nbformat_minor": 5
}