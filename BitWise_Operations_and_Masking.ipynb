{
  "cells": [
    {
      "cell_type": "markdown",
      "metadata": {
        "id": "view-in-github",
        "colab_type": "text"
      },
      "source": [
        "<a href=\"https://colab.research.google.com/github/Prasad3617/IMAGE-MANIPULATIONS/blob/main/BitWise_Operations_and_Masking.ipynb\" target=\"_parent\"><img src=\"https://colab.research.google.com/assets/colab-badge.svg\" alt=\"Open In Colab\"/></a>"
      ]
    },
    {
      "cell_type": "markdown",
      "id": "f6504cfe",
      "metadata": {
        "id": "f6504cfe"
      },
      "source": [
        "# BitWise Operations and Masking"
      ]
    },
    {
      "cell_type": "markdown",
      "id": "e59d5f2c",
      "metadata": {
        "id": "e59d5f2c"
      },
      "source": [
        "### Creating Masking Objects"
      ]
    },
    {
      "cell_type": "code",
      "execution_count": null,
      "id": "a8eb51fa",
      "metadata": {
        "id": "a8eb51fa"
      },
      "outputs": [],
      "source": [
        "import cv2                                                    #importing necessary libraries\n",
        "import numpy as np"
      ]
    },
    {
      "cell_type": "code",
      "execution_count": null,
      "id": "253ea089",
      "metadata": {
        "id": "253ea089",
        "outputId": "41773516-67db-4cb9-ce68-2d01c24c7ab9"
      },
      "outputs": [
        {
          "data": {
            "text/plain": [
              "113"
            ]
          },
          "execution_count": 3,
          "metadata": {},
          "output_type": "execute_result"
        }
      ],
      "source": [
        "square=np.zeros((300,300),np.uint8)                           #creating a random square as a masking object\n",
        "cv2.rectangle(square,(50,50),(250,250),255,-2)\n",
        "cv2.imshow(\"Square\",square)\n",
        "cv2.waitKey(0)"
      ]
    },
    {
      "cell_type": "code",
      "execution_count": null,
      "id": "af4bba3d",
      "metadata": {
        "id": "af4bba3d",
        "outputId": "4f3070e2-277e-4bba-f0c8-27e032f55151"
      },
      "outputs": [
        {
          "data": {
            "text/plain": [
              "113"
            ]
          },
          "execution_count": 4,
          "metadata": {},
          "output_type": "execute_result"
        }
      ],
      "source": [
        "ellipse=np.zeros((300,300),np.uint8)                         #creating a random ellipse as a masking object\n",
        "cv2.ellipse(ellipse,(150,150),(150,150),30,0,180,255,-1)\n",
        "cv2.imshow(\"Ellipse\",ellipse)\n",
        "cv2.waitKey(0)"
      ]
    },
    {
      "cell_type": "code",
      "execution_count": null,
      "id": "4f5e9d92",
      "metadata": {
        "id": "4f5e9d92"
      },
      "outputs": [],
      "source": [
        "cv2.destroyAllWindows()                                      #run this if want to close all the previous images"
      ]
    },
    {
      "cell_type": "markdown",
      "id": "adcbe0ad",
      "metadata": {
        "id": "adcbe0ad"
      },
      "source": [
        "### Performing BitWise Operations"
      ]
    },
    {
      "cell_type": "code",
      "execution_count": null,
      "id": "f4655159",
      "metadata": {
        "id": "f4655159"
      },
      "outputs": [],
      "source": [
        "#bitwise_and"
      ]
    },
    {
      "cell_type": "code",
      "execution_count": null,
      "id": "fc1c4863",
      "metadata": {
        "id": "fc1c4863",
        "outputId": "0f0af87a-d010-4f3a-8926-ce30d41c00ba"
      },
      "outputs": [
        {
          "data": {
            "text/plain": [
              "113"
            ]
          },
          "execution_count": 6,
          "metadata": {},
          "output_type": "execute_result"
        }
      ],
      "source": [
        "And=cv2.bitwise_and(square,ellipse)                         #performing bitwise_and operations on images\n",
        "cv2.imshow(\"And\",And) \n",
        "cv2.waitKey(0)"
      ]
    },
    {
      "cell_type": "code",
      "execution_count": null,
      "id": "73c6cc9c",
      "metadata": {
        "id": "73c6cc9c"
      },
      "outputs": [],
      "source": [
        "#bitwise_or"
      ]
    },
    {
      "cell_type": "code",
      "execution_count": null,
      "id": "11dd17c0",
      "metadata": {
        "id": "11dd17c0",
        "outputId": "03c8e7d0-e75c-46e2-e528-53ff6e89653b"
      },
      "outputs": [
        {
          "data": {
            "text/plain": [
              "113"
            ]
          },
          "execution_count": 8,
          "metadata": {},
          "output_type": "execute_result"
        }
      ],
      "source": [
        "Or=cv2.bitwise_or(square,ellipse)                         #performing bitwise_or operations on images\n",
        "cv2.imshow(\"Or\",Or) \n",
        "cv2.waitKey(0)"
      ]
    },
    {
      "cell_type": "code",
      "execution_count": null,
      "id": "70fb9d61",
      "metadata": {
        "id": "70fb9d61"
      },
      "outputs": [],
      "source": [
        "#bitwise_xor"
      ]
    },
    {
      "cell_type": "code",
      "execution_count": null,
      "id": "3a129cc1",
      "metadata": {
        "id": "3a129cc1",
        "outputId": "11679923-ac01-4176-96d8-2269dbcebb24"
      },
      "outputs": [
        {
          "data": {
            "text/plain": [
              "113"
            ]
          },
          "execution_count": 10,
          "metadata": {},
          "output_type": "execute_result"
        }
      ],
      "source": [
        "Xor=cv2.bitwise_xor(square,ellipse)                         #performing bitwise_xor operations on images\n",
        "cv2.imshow(\"Xor\",Xor) \n",
        "cv2.waitKey(0)"
      ]
    },
    {
      "cell_type": "code",
      "execution_count": null,
      "id": "91051f65",
      "metadata": {
        "id": "91051f65"
      },
      "outputs": [],
      "source": [
        "#bitwise_not"
      ]
    },
    {
      "cell_type": "code",
      "execution_count": null,
      "id": "14950359",
      "metadata": {
        "id": "14950359"
      },
      "outputs": [],
      "source": [
        "Not=cv2.bitwise_not(square,ellipse)                         #performing bitwise_not operations on images\n",
        "cv2.imshow(\"Not\",Not) \n",
        "cv2.waitKey(0)"
      ]
    },
    {
      "cell_type": "code",
      "execution_count": null,
      "id": "133a8306",
      "metadata": {
        "id": "133a8306"
      },
      "outputs": [],
      "source": [
        "cv2.destroyAllWindows()                                      #run this if want to close all the previous images"
      ]
    }
  ],
  "metadata": {
    "kernelspec": {
      "display_name": "Python 3 (ipykernel)",
      "language": "python",
      "name": "python3"
    },
    "language_info": {
      "codemirror_mode": {
        "name": "ipython",
        "version": 3
      },
      "file_extension": ".py",
      "mimetype": "text/x-python",
      "name": "python",
      "nbconvert_exporter": "python",
      "pygments_lexer": "ipython3",
      "version": "3.10.11"
    },
    "colab": {
      "provenance": [],
      "include_colab_link": true
    }
  },
  "nbformat": 4,
  "nbformat_minor": 5
}