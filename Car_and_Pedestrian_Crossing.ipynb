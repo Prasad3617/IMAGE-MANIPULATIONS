{
  "cells": [
    {
      "cell_type": "markdown",
      "metadata": {
        "id": "view-in-github",
        "colab_type": "text"
      },
      "source": [
        "<a href=\"https://colab.research.google.com/github/Prasad3617/IMAGE-MANIPULATIONS/blob/main/Car_and_Pedestrian_Crossing.ipynb\" target=\"_parent\"><img src=\"https://colab.research.google.com/assets/colab-badge.svg\" alt=\"Open In Colab\"/></a>"
      ]
    },
    {
      "cell_type": "code",
      "execution_count": null,
      "id": "c97f1190",
      "metadata": {
        "id": "c97f1190",
        "outputId": "a5a55a2d-f716-4188-a95f-469a609aeac6"
      },
      "outputs": [
        {
          "name": "stdout",
          "output_type": "stream",
          "text": [
            "/Users/dumbo/Documents/anaconda3/envs/Env_1/bin/python\n"
          ]
        }
      ],
      "source": [
        "import sys                                  #import 'sys' module for system executables\n",
        "print(sys.executable)"
      ]
    },
    {
      "cell_type": "code",
      "execution_count": null,
      "id": "624d0258",
      "metadata": {
        "id": "624d0258"
      },
      "outputs": [],
      "source": [
        "import cv2                                  #importing necessary libraries\n",
        "import numpy as np"
      ]
    },
    {
      "cell_type": "code",
      "execution_count": null,
      "id": "fac2a15a",
      "metadata": {
        "id": "fac2a15a"
      },
      "outputs": [],
      "source": [
        "body_classifier=cv2.CascadeClassifier(cv2.samples.findFile(cv2.data.haarcascades+\"haarcascade_frontalface_default.xml\"))     #pointing to the haarcascade classifier function"
      ]
    },
    {
      "cell_type": "code",
      "execution_count": null,
      "id": "ddeb8229",
      "metadata": {
        "id": "ddeb8229"
      },
      "outputs": [],
      "source": [
        "cap=cv2.VideoCapture(\"1.mov\")              #capturing video"
      ]
    },
    {
      "cell_type": "code",
      "execution_count": null,
      "id": "99f02857",
      "metadata": {
        "id": "99f02857"
      },
      "outputs": [],
      "source": [
        "while cap.isOpened():\n",
        "    ret,frame=cap.read()\n",
        "    rame=cv2.resize(frame,None,fx=0.5,fy=0.5,interpolation=cv2.INTER_LINEAR)\n",
        "    gray=cv2.cvtColor(frame,cv2.COLOR_BGR2GRAY)\n",
        "    bodies=body_classifier.detectMultiScale(gray,1.2,3)\n",
        "\n",
        "    for (x,y,w,h) in bodies:\n",
        "        cv2.rectangle(frame,(x,y),(x+w,y+h),(0,255,255),2)\n",
        "        cv2.imshow(\"Pedestrians\",frame)\n",
        "\n",
        "    if cv2.waitKey(1)==3:\n",
        "        break"
      ]
    },
    {
      "cell_type": "code",
      "execution_count": null,
      "id": "54ebf8ff",
      "metadata": {
        "id": "54ebf8ff"
      },
      "outputs": [],
      "source": [
        "cap.release()"
      ]
    },
    {
      "cell_type": "code",
      "execution_count": null,
      "id": "9271f220",
      "metadata": {
        "id": "9271f220"
      },
      "outputs": [],
      "source": [
        "cv2.destroyAllWindows()"
      ]
    },
    {
      "cell_type": "code",
      "execution_count": null,
      "id": "e9bcdd30",
      "metadata": {
        "id": "e9bcdd30"
      },
      "outputs": [],
      "source": []
    }
  ],
  "metadata": {
    "kernelspec": {
      "display_name": "Python 3 (ipykernel)",
      "language": "python",
      "name": "python3"
    },
    "language_info": {
      "codemirror_mode": {
        "name": "ipython",
        "version": 3
      },
      "file_extension": ".py",
      "mimetype": "text/x-python",
      "name": "python",
      "nbconvert_exporter": "python",
      "pygments_lexer": "ipython3",
      "version": "3.11.3"
    },
    "colab": {
      "provenance": [],
      "include_colab_link": true
    }
  },
  "nbformat": 4,
  "nbformat_minor": 5
}