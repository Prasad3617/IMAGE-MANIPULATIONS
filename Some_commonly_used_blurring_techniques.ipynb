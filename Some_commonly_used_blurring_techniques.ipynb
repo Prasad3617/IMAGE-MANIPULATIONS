{
  "cells": [
    {
      "cell_type": "markdown",
      "metadata": {
        "id": "view-in-github",
        "colab_type": "text"
      },
      "source": [
        "<a href=\"https://colab.research.google.com/github/Prasad3617/IMAGE-MANIPULATIONS/blob/main/Some_commonly_used_blurring_techniques.ipynb\" target=\"_parent\"><img src=\"https://colab.research.google.com/assets/colab-badge.svg\" alt=\"Open In Colab\"/></a>"
      ]
    },
    {
      "cell_type": "markdown",
      "id": "7ca36441",
      "metadata": {
        "id": "7ca36441"
      },
      "source": [
        "## Some commonly used blurring techniques"
      ]
    },
    {
      "cell_type": "code",
      "execution_count": null,
      "id": "d5afe649",
      "metadata": {
        "id": "d5afe649"
      },
      "outputs": [],
      "source": [
        "import cv2                                  #importing necessary libraries\n",
        "import numpy as np"
      ]
    },
    {
      "cell_type": "code",
      "execution_count": null,
      "id": "2e2203e9",
      "metadata": {
        "id": "2e2203e9"
      },
      "outputs": [],
      "source": [
        "image=cv2.imread(\"image3.png\")               #reading an image to perform blurring operation"
      ]
    },
    {
      "cell_type": "code",
      "execution_count": null,
      "id": "855812d3",
      "metadata": {
        "id": "855812d3"
      },
      "outputs": [],
      "source": [
        "blur=cv2.blur(image,(3,3))                   #averaging done by convolving the image with a normal box filter\n",
        "cv2.imshow(\"Averaging\", blur)                #this takes the pixels under the box and replaces the central element\n",
        "cv2.waitKey(0)                               #box size needs to be odd and positive"
      ]
    },
    {
      "cell_type": "code",
      "execution_count": null,
      "id": "9b279f8c",
      "metadata": {
        "id": "9b279f8c"
      },
      "outputs": [],
      "source": [
        "Gaussian=cv2.GaussianBlur(image,(7,7),0)     #instead of box filter, Gaussian Kernel\n",
        "cv2.imshow(\"Gaussian_Blurring\",Gaussian)\n",
        "cv2.waitKey(0)"
      ]
    },
    {
      "cell_type": "code",
      "execution_count": null,
      "id": "37f8a93b",
      "metadata": {
        "id": "37f8a93b"
      },
      "outputs": [],
      "source": [
        "median=cv2.medianBlur(image,5)               #takes median of allhe pixel under kernel area and central\n",
        "cv2.imshow(\"Median_Blurring\",median)         #element is replaced with this median value\n",
        "cv2.waitKey(0)"
      ]
    },
    {
      "cell_type": "code",
      "execution_count": null,
      "id": "31bb9067",
      "metadata": {
        "id": "31bb9067"
      },
      "outputs": [],
      "source": [
        "bilateral=cv2.bilateralFilter(image,9,75,75) #bilateral is very effective in noise removal while keeping edges sharp\n",
        "cv2.imshow(\"Bilateral_Blurring\",bilateral)\n",
        "cv2.waitKey(0)"
      ]
    },
    {
      "cell_type": "code",
      "execution_count": null,
      "id": "a0dce2d2",
      "metadata": {
        "id": "a0dce2d2"
      },
      "outputs": [],
      "source": [
        "cv2.destroyAllWindows()"
      ]
    }
  ],
  "metadata": {
    "kernelspec": {
      "display_name": "Python 3 (ipykernel)",
      "language": "python",
      "name": "python3"
    },
    "language_info": {
      "codemirror_mode": {
        "name": "ipython",
        "version": 3
      },
      "file_extension": ".py",
      "mimetype": "text/x-python",
      "name": "python",
      "nbconvert_exporter": "python",
      "pygments_lexer": "ipython3",
      "version": "3.10.11"
    },
    "colab": {
      "provenance": [],
      "include_colab_link": true
    }
  },
  "nbformat": 4,
  "nbformat_minor": 5
}