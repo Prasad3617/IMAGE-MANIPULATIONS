{
  "cells": [
    {
      "cell_type": "markdown",
      "metadata": {
        "id": "view-in-github",
        "colab_type": "text"
      },
      "source": [
        "<a href=\"https://colab.research.google.com/github/Prasad3617/IMAGE-MANIPULATIONS/blob/main/Approximating_Contours.ipynb\" target=\"_parent\"><img src=\"https://colab.research.google.com/assets/colab-badge.svg\" alt=\"Open In Colab\"/></a>"
      ]
    },
    {
      "cell_type": "code",
      "execution_count": null,
      "id": "154f9133",
      "metadata": {
        "id": "154f9133"
      },
      "outputs": [],
      "source": [
        "import cv2                                                                           #import necessary libraries\n",
        "import numpy as np"
      ]
    },
    {
      "cell_type": "code",
      "execution_count": null,
      "id": "27a1029f",
      "metadata": {
        "id": "27a1029f"
      },
      "outputs": [],
      "source": [
        "image=cv2.imread(\"3.png\")                                                            #load input image"
      ]
    },
    {
      "cell_type": "code",
      "execution_count": null,
      "id": "7699081b",
      "metadata": {
        "id": "7699081b",
        "outputId": "230663c7-2339-49d9-8514-11e72fc7c285"
      },
      "outputs": [
        {
          "data": {
            "text/plain": [
              "113"
            ]
          },
          "execution_count": 3,
          "metadata": {},
          "output_type": "execute_result"
        }
      ],
      "source": [
        "original_image=image.copy()                                                          #display image and create a copy\n",
        "cv2.imshow(\"Original Image\",original_image)\n",
        "cv2.waitKey(0)"
      ]
    },
    {
      "cell_type": "code",
      "execution_count": null,
      "id": "3b92d672",
      "metadata": {
        "id": "3b92d672"
      },
      "outputs": [],
      "source": [
        "gray=cv2.cvtColor(image,cv2.COLOR_BGR2GRAY)                                                  #convert our image to grayscale\n",
        "ret,thresh=cv2.threshold(gray,127,255,cv2.THRESH_BINARY_INV)                                 #convert to binary image"
      ]
    },
    {
      "cell_type": "code",
      "execution_count": null,
      "id": "a9b4c6d4",
      "metadata": {
        "id": "a9b4c6d4"
      },
      "outputs": [],
      "source": [
        "contours,hierarchy=cv2.findContours(thresh.copy(),cv2.RETR_LIST,cv2.CHAIN_APPROX_NONE)      #finding contours"
      ]
    },
    {
      "cell_type": "code",
      "execution_count": null,
      "id": "cabb7e1a",
      "metadata": {
        "id": "cabb7e1a"
      },
      "outputs": [],
      "source": [
        "for c in contours:                                                                          #iterate through each conrtour and find the bounding rectangle\n",
        "    x,y,w,h=cv2.boundingRect(c)\n",
        "    cv2.rectangle(original_image,(x,y),(x+w,y+h),(0,0,255),2)\n",
        "    cv2.imshow(\"Bounding Rectangle\",original_image)"
      ]
    },
    {
      "cell_type": "code",
      "execution_count": null,
      "id": "5cd8c14d",
      "metadata": {
        "id": "5cd8c14d",
        "outputId": "4d7b4bb3-7808-409a-fa5e-d21ead9d204d"
      },
      "outputs": [
        {
          "data": {
            "text/plain": [
              "113"
            ]
          },
          "execution_count": 7,
          "metadata": {},
          "output_type": "execute_result"
        }
      ],
      "source": [
        "cv2.waitKey(0)"
      ]
    },
    {
      "cell_type": "code",
      "execution_count": null,
      "id": "665124d8",
      "metadata": {
        "id": "665124d8"
      },
      "outputs": [],
      "source": [
        "for c in contours:                                                                          #iterate through each contour and compute the approximate contours\n",
        "    accuracy=0.03*cv2.arcLength(c,True)\n",
        "    approx=cv2.approxPolyDP(c,accuracy,True)\n",
        "    cv2.drawContours(image,[approx],0,(0,255,0),2)\n",
        "    cv2.imshow(\"Approx Poly DP\",image)"
      ]
    },
    {
      "cell_type": "code",
      "execution_count": null,
      "id": "8c61cedd",
      "metadata": {
        "id": "8c61cedd",
        "outputId": "db5a150c-0f6d-4b41-83de-752609996e8a"
      },
      "outputs": [
        {
          "data": {
            "text/plain": [
              "113"
            ]
          },
          "execution_count": 9,
          "metadata": {},
          "output_type": "execute_result"
        }
      ],
      "source": [
        "cv2.waitKey(0)"
      ]
    },
    {
      "cell_type": "code",
      "execution_count": null,
      "id": "7e1cd706",
      "metadata": {
        "id": "7e1cd706"
      },
      "outputs": [],
      "source": [
        "cv2.destroyAllWindows()"
      ]
    }
  ],
  "metadata": {
    "kernelspec": {
      "display_name": "Python 3 (ipykernel)",
      "language": "python",
      "name": "python3"
    },
    "language_info": {
      "codemirror_mode": {
        "name": "ipython",
        "version": 3
      },
      "file_extension": ".py",
      "mimetype": "text/x-python",
      "name": "python",
      "nbconvert_exporter": "python",
      "pygments_lexer": "ipython3",
      "version": "3.11.3"
    },
    "colab": {
      "provenance": [],
      "include_colab_link": true
    }
  },
  "nbformat": 4,
  "nbformat_minor": 5
}