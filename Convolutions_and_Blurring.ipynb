{
  "cells": [
    {
      "cell_type": "markdown",
      "metadata": {
        "id": "view-in-github",
        "colab_type": "text"
      },
      "source": [
        "<a href=\"https://colab.research.google.com/github/Prasad3617/IMAGE-MANIPULATIONS/blob/main/Convolutions_and_Blurring.ipynb\" target=\"_parent\"><img src=\"https://colab.research.google.com/assets/colab-badge.svg\" alt=\"Open In Colab\"/></a>"
      ]
    },
    {
      "cell_type": "markdown",
      "id": "230bba9c",
      "metadata": {
        "id": "230bba9c"
      },
      "source": [
        "## Convolutions and Blurring"
      ]
    },
    {
      "cell_type": "code",
      "execution_count": null,
      "id": "a4dbfcdc",
      "metadata": {
        "id": "a4dbfcdc"
      },
      "outputs": [],
      "source": [
        "import cv2                                  #importing necessary libraries\n",
        "import numpy as np"
      ]
    },
    {
      "cell_type": "code",
      "execution_count": null,
      "id": "8401e967",
      "metadata": {
        "id": "8401e967"
      },
      "outputs": [],
      "source": [
        "image=cv2.imread(\"image3.png\")               #reading an input image"
      ]
    },
    {
      "cell_type": "code",
      "execution_count": null,
      "id": "171064a5",
      "metadata": {
        "id": "171064a5",
        "outputId": "063b19c0-1322-4e75-e7e6-468a4183595b"
      },
      "outputs": [
        {
          "data": {
            "text/plain": [
              "113"
            ]
          },
          "execution_count": 3,
          "metadata": {},
          "output_type": "execute_result"
        }
      ],
      "source": [
        "cv2.imshow(\"ORIGINAL_IMAGE\",image)          #displaying the original image\n",
        "cv2.waitKey(0)"
      ]
    },
    {
      "cell_type": "code",
      "execution_count": null,
      "id": "989ecbd0",
      "metadata": {
        "id": "989ecbd0"
      },
      "outputs": [],
      "source": [
        "kernel_3x3=np.ones((3,3), np.float32)/9      #creating a 3x3 kernel"
      ]
    },
    {
      "cell_type": "code",
      "execution_count": null,
      "id": "bfb1f4b6",
      "metadata": {
        "id": "bfb1f4b6",
        "outputId": "f45acd20-4c8f-4613-feb6-5b55ada07d95"
      },
      "outputs": [
        {
          "data": {
            "text/plain": [
              "113"
            ]
          },
          "execution_count": 5,
          "metadata": {},
          "output_type": "execute_result"
        }
      ],
      "source": [
        "blurred=cv2.filter2D(image,-2,kernel_3x3)   #we use the cv2.filter2D to convolve kernel with an image\n",
        "cv2.imshow(\"3x3_Kernel_Blurring\",blurred)\n",
        "cv2.waitKey(0)"
      ]
    },
    {
      "cell_type": "code",
      "execution_count": null,
      "id": "7fcea1d8",
      "metadata": {
        "id": "7fcea1d8"
      },
      "outputs": [],
      "source": [
        "kernel_7x7=np.ones((7,7), np.float32)/49     #creating a 7x7 kernel"
      ]
    },
    {
      "cell_type": "code",
      "execution_count": null,
      "id": "ad9e1336",
      "metadata": {
        "id": "ad9e1336"
      },
      "outputs": [],
      "source": [
        "blurred2=cv2.filter2D(image,-2,kernel_7x7)  #we use the cv2.filter2D to convolve kernel with an image\n",
        "cv2.imshow(\"7x7_Kernel_Blurring\",blurred2)\n",
        "cv2.waitKey(0)"
      ]
    },
    {
      "cell_type": "code",
      "execution_count": null,
      "id": "7633d5d0",
      "metadata": {
        "id": "7633d5d0"
      },
      "outputs": [],
      "source": [
        "cv2.destroyAllWindows()"
      ]
    }
  ],
  "metadata": {
    "kernelspec": {
      "display_name": "Python 3 (ipykernel)",
      "language": "python",
      "name": "python3"
    },
    "language_info": {
      "codemirror_mode": {
        "name": "ipython",
        "version": 3
      },
      "file_extension": ".py",
      "mimetype": "text/x-python",
      "name": "python",
      "nbconvert_exporter": "python",
      "pygments_lexer": "ipython3",
      "version": "3.10.11"
    },
    "colab": {
      "provenance": [],
      "include_colab_link": true
    }
  },
  "nbformat": 4,
  "nbformat_minor": 5
}