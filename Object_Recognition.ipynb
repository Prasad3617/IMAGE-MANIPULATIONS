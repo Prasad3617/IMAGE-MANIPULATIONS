{
  "cells": [
    {
      "cell_type": "markdown",
      "metadata": {
        "id": "view-in-github",
        "colab_type": "text"
      },
      "source": [
        "<a href=\"https://colab.research.google.com/github/Prasad3617/IMAGE-MANIPULATIONS/blob/main/Object_Recognition.ipynb\" target=\"_parent\"><img src=\"https://colab.research.google.com/assets/colab-badge.svg\" alt=\"Open In Colab\"/></a>"
      ]
    },
    {
      "cell_type": "code",
      "execution_count": null,
      "id": "13d09878",
      "metadata": {
        "id": "13d09878"
      },
      "outputs": [],
      "source": [
        "import cv2                                         #importing necessary libraries\n",
        "import numpy as np"
      ]
    },
    {
      "cell_type": "code",
      "execution_count": null,
      "id": "203e2a8b",
      "metadata": {
        "id": "203e2a8b"
      },
      "outputs": [],
      "source": [
        "image=cv2.imread(\"11.jpeg\")                        #loading the input image"
      ]
    },
    {
      "cell_type": "code",
      "execution_count": null,
      "id": "b70f8b80",
      "metadata": {
        "id": "b70f8b80",
        "outputId": "c487674e-9a93-41fc-d069-0bacf23dbe9e"
      },
      "outputs": [
        {
          "data": {
            "text/plain": [
              "113"
            ]
          },
          "execution_count": 3,
          "metadata": {},
          "output_type": "execute_result"
        }
      ],
      "source": [
        "cv2.imshow(\"Locate him!\",image)         #displaying the output image\n",
        "cv2.waitKey(0)"
      ]
    },
    {
      "cell_type": "code",
      "execution_count": null,
      "id": "ffca309d",
      "metadata": {
        "id": "ffca309d"
      },
      "outputs": [],
      "source": [
        "gray=cv2.cvtColor(image,cv2.COLOR_BGR2GRAY)        #converting the image to a grayscale image"
      ]
    },
    {
      "cell_type": "code",
      "execution_count": null,
      "id": "3812273e",
      "metadata": {
        "id": "3812273e"
      },
      "outputs": [],
      "source": [
        "template=cv2.imread(\"12.png\",0)                    #loading the image of the object to be found"
      ]
    },
    {
      "cell_type": "code",
      "execution_count": null,
      "id": "3de47a2f",
      "metadata": {
        "id": "3de47a2f"
      },
      "outputs": [],
      "source": [
        "result=cv2.matchTemplate(gray,template,cv2.TM_CCOEFF)    #\n",
        "min_val,max_val,min_loc,max_loc=cv2.minMaxLoc(result)"
      ]
    },
    {
      "cell_type": "code",
      "execution_count": null,
      "id": "aa71396b",
      "metadata": {
        "id": "aa71396b",
        "outputId": "d30f8562-c20f-459c-8f70-4a067f1534ee"
      },
      "outputs": [
        {
          "data": {
            "text/plain": [
              "array([[[246, 246, 255],\n",
              "        [181, 188, 197],\n",
              "        [ 67,  91,  89],\n",
              "        ...,\n",
              "        [ 61,  69,  76],\n",
              "        [184, 193, 197],\n",
              "        [227, 236, 240]],\n",
              "\n",
              "       [[253, 251, 255],\n",
              "        [229, 235, 242],\n",
              "        [108, 130, 128],\n",
              "        ...,\n",
              "        [145, 152, 161],\n",
              "        [221, 228, 237],\n",
              "        [221, 228, 237]],\n",
              "\n",
              "       [[247, 245, 251],\n",
              "        [250, 255, 255],\n",
              "        [188, 206, 205],\n",
              "        ...,\n",
              "        [215, 223, 236],\n",
              "        [212, 219, 234],\n",
              "        [213, 220, 235]],\n",
              "\n",
              "       ...,\n",
              "\n",
              "       [[245, 243, 255],\n",
              "        [244, 251, 255],\n",
              "        [176, 197, 225],\n",
              "        ...,\n",
              "        [242, 248, 253],\n",
              "        [249, 247, 237],\n",
              "        [210, 202, 185]],\n",
              "\n",
              "       [[245, 250, 248],\n",
              "        [243, 251, 255],\n",
              "        [229, 243, 255],\n",
              "        ...,\n",
              "        [251, 249, 241],\n",
              "        [223, 213, 189],\n",
              "        [246, 234, 200]],\n",
              "\n",
              "       [[251, 255, 249],\n",
              "        [240, 248, 248],\n",
              "        [239, 250, 255],\n",
              "        ...,\n",
              "        [255, 255, 244],\n",
              "        [238, 225, 193],\n",
              "        [252, 236, 194]]], dtype=uint8)"
            ]
          },
          "execution_count": 7,
          "metadata": {},
          "output_type": "execute_result"
        }
      ],
      "source": [
        "top_left=max_loc                                        #creating a bounding box to highlight recognised object\n",
        "bottom_right=(top_left[0]+50,top_left[1]+50)\n",
        "cv2.rectangle(image,top_left,bottom_right,(0,0,255),5)"
      ]
    },
    {
      "cell_type": "code",
      "execution_count": null,
      "id": "44b1db1d",
      "metadata": {
        "id": "44b1db1d"
      },
      "outputs": [],
      "source": [
        "cv2.imshow(\"The Recognised Object\",image)\n",
        "cv2.waitKey(0)"
      ]
    },
    {
      "cell_type": "code",
      "execution_count": null,
      "id": "567d5479",
      "metadata": {
        "id": "567d5479"
      },
      "outputs": [],
      "source": [
        "cv2.destroyAllWindows()"
      ]
    },
    {
      "cell_type": "code",
      "execution_count": null,
      "id": "cb64d445",
      "metadata": {
        "id": "cb64d445"
      },
      "outputs": [],
      "source": []
    }
  ],
  "metadata": {
    "kernelspec": {
      "display_name": "Python 3 (ipykernel)",
      "language": "python",
      "name": "python3"
    },
    "language_info": {
      "codemirror_mode": {
        "name": "ipython",
        "version": 3
      },
      "file_extension": ".py",
      "mimetype": "text/x-python",
      "name": "python",
      "nbconvert_exporter": "python",
      "pygments_lexer": "ipython3",
      "version": "3.11.3"
    },
    "colab": {
      "provenance": [],
      "include_colab_link": true
    }
  },
  "nbformat": 4,
  "nbformat_minor": 5
}