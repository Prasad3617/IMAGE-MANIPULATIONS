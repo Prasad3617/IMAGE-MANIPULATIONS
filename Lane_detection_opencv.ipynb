{
  "cells": [
    {
      "cell_type": "markdown",
      "metadata": {
        "id": "view-in-github",
        "colab_type": "text"
      },
      "source": [
        "<a href=\"https://colab.research.google.com/github/Prasad3617/IMAGE-MANIPULATIONS/blob/main/Lane_detection_opencv.ipynb\" target=\"_parent\"><img src=\"https://colab.research.google.com/assets/colab-badge.svg\" alt=\"Open In Colab\"/></a>"
      ]
    },
    {
      "cell_type": "code",
      "source": [
        "import cv2\n",
        "import numpy as np"
      ],
      "metadata": {
        "id": "VbX_9-L-25x0"
      },
      "id": "VbX_9-L-25x0",
      "execution_count": null,
      "outputs": []
    },
    {
      "cell_type": "code",
      "source": [
        "# Returns a masked image\n",
        "def ROI_mask(image):\n",
        "    \n",
        "    height = image.shape[0]\n",
        "    width = image.shape[1]\n",
        "\n",
        "    \n",
        "    # A triangular polygon to segment the lane area and discarded other irrelevant parts in the image\n",
        "    # Defined by three (x, y) coordinates    \n",
        "    polygons = np.array([[(0, height), (round(width/2), round(height/2)), (1000, height)]]) \n",
        "    \n",
        "    mask = np.zeros_like(image) \n",
        "    cv2.fillPoly(mask, polygons, 255)  ## 255 is the mask color\n",
        "    \n",
        "    # Bitwise AND between canny image and mask image\n",
        "    masked_image = cv2.bitwise_and(image, mask)\n",
        "    \n",
        "    return masked_image"
      ],
      "metadata": {
        "id": "kolOtBW125_s"
      },
      "id": "kolOtBW125_s",
      "execution_count": null,
      "outputs": []
    },
    {
      "cell_type": "code",
      "source": [
        "vid=cv2.VideoCapture('Lane_video.mp4')\n",
        "if vid.isOpened()==False:\n",
        "    print(\"Error Opening the file!\")"
      ],
      "metadata": {
        "id": "0u-pBDoB26IX"
      },
      "id": "0u-pBDoB26IX",
      "execution_count": null,
      "outputs": []
    },
    {
      "cell_type": "code",
      "execution_count": null,
      "id": "0623cea7",
      "metadata": {
        "id": "0623cea7"
      },
      "outputs": [],
      "source": [
        "while vid.isOpened():\n",
        "    fps=int(vid.get(5))\n",
        "    print(\"Frame rate: \", fps,\"frames per second\")\n",
        "    \n",
        "    ret,frame=vid.read()\n",
        "    if ret==True:\n",
        "        cv2.imshow(\"Resulting Video\", frame)\n",
        "        cv2.waitKey(0)\n",
        "        \n",
        "        gray=cv2.cvtColor(frame,cv2.COLOR_BGR2GRAY)\n",
        "        edges1=ROI_mask(gray)\n",
        "        edges=cv2.Canny(edges1,50,200)\n",
        "        cv2.imshow(\"edges1\",edges1)\n",
        "        lines=cv2.HoughLinesP(edges1,1,np.pi/180,300,minLineLength=1,maxLineGap=300)\n",
        "        \n",
        "        for line in lines:\n",
        "            x1,y1,x2,y2=line[0]\n",
        "            cv2.line(frame,(x1,y1),(x2,y2),(0,255,255),1)\n",
        "            \n",
        "        cv2.imshow(\"Resulting Video\",frame)\n",
        "        cv2.waitKey(0)\n",
        "        \n",
        "        if cv2.waitKey(25) & 0xFF == ord('q'):\n",
        "            break\n",
        "            \n",
        "    else:\n",
        "        break\n",
        "vid.release()\n",
        "cv2.destroyAllWindows()   "
      ]
    }
  ],
  "metadata": {
    "kernelspec": {
      "display_name": "Python 3 (ipykernel)",
      "language": "python",
      "name": "python3"
    },
    "language_info": {
      "codemirror_mode": {
        "name": "ipython",
        "version": 3
      },
      "file_extension": ".py",
      "mimetype": "text/x-python",
      "name": "python",
      "nbconvert_exporter": "python",
      "pygments_lexer": "ipython3",
      "version": "3.10.11"
    },
    "colab": {
      "provenance": [],
      "include_colab_link": true
    }
  },
  "nbformat": 4,
  "nbformat_minor": 5
}