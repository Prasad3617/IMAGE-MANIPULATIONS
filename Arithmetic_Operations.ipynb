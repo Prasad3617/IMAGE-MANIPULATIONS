{
  "cells": [
    {
      "cell_type": "markdown",
      "metadata": {
        "id": "view-in-github",
        "colab_type": "text"
      },
      "source": [
        "<a href=\"https://colab.research.google.com/github/Prasad3617/IMAGE-MANIPULATIONS/blob/main/Arithmetic_Operations.ipynb\" target=\"_parent\"><img src=\"https://colab.research.google.com/assets/colab-badge.svg\" alt=\"Open In Colab\"/></a>"
      ]
    },
    {
      "cell_type": "markdown",
      "id": "35bf19fb",
      "metadata": {
        "id": "35bf19fb"
      },
      "source": [
        "# Arithmetic Operations"
      ]
    },
    {
      "cell_type": "markdown",
      "id": "851a7ce5",
      "metadata": {
        "id": "851a7ce5"
      },
      "source": [
        "### These are operations that allow us to add or subtract/ increase or decrese the colour intensity.\n",
        "### Calculates the per-element operations of two arrays. \n",
        "### The overall effect/net result is either an increase or a decrease in brightness"
      ]
    },
    {
      "cell_type": "code",
      "execution_count": null,
      "id": "25397351",
      "metadata": {
        "id": "25397351"
      },
      "outputs": [],
      "source": [
        "import cv2                                   # importing necessary libraries\n",
        "import numpy as np"
      ]
    },
    {
      "cell_type": "code",
      "execution_count": null,
      "id": "f02dee43",
      "metadata": {
        "id": "f02dee43"
      },
      "outputs": [],
      "source": [
        "image=cv2.imread(\"image.png\")                # reading an image as input"
      ]
    },
    {
      "cell_type": "code",
      "execution_count": null,
      "id": "ba6c1bde",
      "metadata": {
        "id": "ba6c1bde"
      },
      "outputs": [],
      "source": [
        "M=np.ones(image.shape,dtype=\"uint8\") * 100   # creating a matrixof ones, then multiplying it with a scaler of 100\n",
        "                                             # this gives us a matrix with same dimensions as of our image \n",
        "                                             # with all values being 100"
      ]
    },
    {
      "cell_type": "code",
      "execution_count": null,
      "id": "9ad3d403",
      "metadata": {
        "id": "9ad3d403"
      },
      "outputs": [],
      "source": [
        "added=cv2.add(image,M)                       # We use this to add the matrix M to our image\n",
        "cv2.imshow(\"Added\",added)                    # Notice the increase in brightness"
      ]
    },
    {
      "cell_type": "code",
      "execution_count": null,
      "id": "9cf4e2ef",
      "metadata": {
        "id": "9cf4e2ef"
      },
      "outputs": [],
      "source": [
        "subtracted=cv2.subtract(image,M)             # We use this to subtract the matrix M from our image\n",
        "cv2.imshow(\"Subtracted\",subtracted)          # Notice the decrease in brightness"
      ]
    },
    {
      "cell_type": "code",
      "execution_count": null,
      "id": "e6f298ef",
      "metadata": {
        "id": "e6f298ef"
      },
      "outputs": [],
      "source": [
        "cv2.waitKey(0)\n",
        "cv2.destroyAllWindows()"
      ]
    },
    {
      "cell_type": "code",
      "execution_count": null,
      "id": "b8520754",
      "metadata": {
        "id": "b8520754"
      },
      "outputs": [],
      "source": []
    }
  ],
  "metadata": {
    "kernelspec": {
      "display_name": "Python 3 (ipykernel)",
      "language": "python",
      "name": "python3"
    },
    "language_info": {
      "codemirror_mode": {
        "name": "ipython",
        "version": 3
      },
      "file_extension": ".py",
      "mimetype": "text/x-python",
      "name": "python",
      "nbconvert_exporter": "python",
      "pygments_lexer": "ipython3",
      "version": "3.10.11"
    },
    "colab": {
      "provenance": [],
      "include_colab_link": true
    }
  },
  "nbformat": 4,
  "nbformat_minor": 5
}