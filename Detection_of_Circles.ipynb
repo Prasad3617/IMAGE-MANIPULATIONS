{
  "cells": [
    {
      "cell_type": "markdown",
      "metadata": {
        "id": "view-in-github",
        "colab_type": "text"
      },
      "source": [
        "<a href=\"https://colab.research.google.com/github/Prasad3617/IMAGE-MANIPULATIONS/blob/main/Detection_of_Circles.ipynb\" target=\"_parent\"><img src=\"https://colab.research.google.com/assets/colab-badge.svg\" alt=\"Open In Colab\"/></a>"
      ]
    },
    {
      "cell_type": "code",
      "execution_count": null,
      "id": "d061573e",
      "metadata": {
        "id": "d061573e"
      },
      "outputs": [],
      "source": [
        "import cv2                                      #importing necessary libraries\n",
        "import numpy as np"
      ]
    },
    {
      "cell_type": "code",
      "execution_count": null,
      "id": "f803d1f0",
      "metadata": {
        "id": "f803d1f0"
      },
      "outputs": [],
      "source": [
        "image=cv2.imread(\"10.png\")                      #loading our input image"
      ]
    },
    {
      "cell_type": "code",
      "execution_count": null,
      "id": "be02d070",
      "metadata": {
        "id": "be02d070"
      },
      "outputs": [],
      "source": [
        "gray=cv2.cvtColor(image,cv2.COLOR_BGR2GRAY)     #coverting our image to grayscale image"
      ]
    },
    {
      "cell_type": "code",
      "execution_count": null,
      "id": "6eda5bb8",
      "metadata": {
        "id": "6eda5bb8"
      },
      "outputs": [],
      "source": [
        "blur=cv2.medianBlur(gray,5)                     #coverting our image to a blurred image"
      ]
    },
    {
      "cell_type": "code",
      "execution_count": null,
      "id": "2c834f62",
      "metadata": {
        "id": "2c834f62",
        "outputId": "6daa9fbe-2211-497b-ff91-a0f70514fe1a"
      },
      "outputs": [
        {
          "data": {
            "text/plain": [
              "113"
            ]
          },
          "execution_count": 5,
          "metadata": {},
          "output_type": "execute_result"
        }
      ],
      "source": [
        "cv2.imshow(\"Blur\",blur)\n",
        "cv2.waitKey(0)"
      ]
    },
    {
      "cell_type": "code",
      "execution_count": null,
      "id": "5e736130",
      "metadata": {
        "id": "5e736130"
      },
      "outputs": [],
      "source": [
        "circles = cv2.HoughCircles(blur, cv2.HOUGH_GRADIENT, 1, image.shape[0]/64, param1=200, param2=10, minRadius=1, maxRadius=30)"
      ]
    },
    {
      "cell_type": "code",
      "execution_count": null,
      "id": "7fdc46a4",
      "metadata": {
        "id": "7fdc46a4"
      },
      "outputs": [],
      "source": [
        "# Draw detected circles\n",
        "if circles is not None:\n",
        "    circles = np.uint16(np.around(circles))\n",
        "    for i in circles[0, :]:\n",
        "        # Draw outer circle\n",
        "        cv2.circle(image, (i[0], i[1]), i[2], (0, 255, 0), 2)\n",
        "        # Draw inner circle\n",
        "        cv2.circle(image, (i[0], i[1]), 2, (0, 0, 255), 3)"
      ]
    },
    {
      "cell_type": "code",
      "execution_count": null,
      "id": "ab56de3a",
      "metadata": {
        "id": "ab56de3a"
      },
      "outputs": [],
      "source": [
        "cv2.imshow(\"Detected Circles\",image)\n",
        "cv2.waitKey(0)"
      ]
    },
    {
      "cell_type": "code",
      "execution_count": null,
      "id": "ec108152",
      "metadata": {
        "id": "ec108152"
      },
      "outputs": [],
      "source": [
        "cv2.destroyAllWindows()"
      ]
    },
    {
      "cell_type": "code",
      "execution_count": null,
      "id": "ea9c2fdd",
      "metadata": {
        "id": "ea9c2fdd"
      },
      "outputs": [],
      "source": [
        "help(cv2)              #just in case you require some help with the attributes of cv2"
      ]
    },
    {
      "cell_type": "code",
      "execution_count": null,
      "id": "d963d470",
      "metadata": {
        "id": "d963d470"
      },
      "outputs": [],
      "source": []
    }
  ],
  "metadata": {
    "kernelspec": {
      "display_name": "Python 3 (ipykernel)",
      "language": "python",
      "name": "python3"
    },
    "language_info": {
      "codemirror_mode": {
        "name": "ipython",
        "version": 3
      },
      "file_extension": ".py",
      "mimetype": "text/x-python",
      "name": "python",
      "nbconvert_exporter": "python",
      "pygments_lexer": "ipython3",
      "version": "3.11.3"
    },
    "colab": {
      "provenance": [],
      "include_colab_link": true
    }
  },
  "nbformat": 4,
  "nbformat_minor": 5
}