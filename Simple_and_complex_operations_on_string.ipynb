{
  "nbformat": 4,
  "nbformat_minor": 0,
  "metadata": {
    "colab": {
      "provenance": [],
      "authorship_tag": "ABX9TyMZhtbDXGz4+0mtexoGXmZA",
      "include_colab_link": true
    },
    "kernelspec": {
      "name": "python3",
      "display_name": "Python 3"
    },
    "language_info": {
      "name": "python"
    }
  },
  "cells": [
    {
      "cell_type": "markdown",
      "metadata": {
        "id": "view-in-github",
        "colab_type": "text"
      },
      "source": [
        "<a href=\"https://colab.research.google.com/github/Prasad3617/IMAGE-MANIPULATIONS/blob/main/Simple_and_complex_operations_on_string.ipynb\" target=\"_parent\"><img src=\"https://colab.research.google.com/assets/colab-badge.svg\" alt=\"Open In Colab\"/></a>"
      ]
    },
    {
      "cell_type": "markdown",
      "source": [
        "# Strings"
      ],
      "metadata": {
        "id": "_2TrL4vniVmw"
      }
    },
    {
      "cell_type": "markdown",
      "source": [
        "### String Concatenation"
      ],
      "metadata": {
        "id": "DLo6uTDPh1UA"
      }
    },
    {
      "cell_type": "code",
      "source": [
        "str1 = \"hello\"\n",
        "str2 = \" world\"\n",
        "print(\"concatenated string: \", str1 + str2)    #concatenated string is returned"
      ],
      "metadata": {
        "colab": {
          "base_uri": "https://localhost:8080/"
        },
        "id": "T23chFfGh7BN",
        "outputId": "463a1644-4559-4bec-fe36-a6909d257f2e"
      },
      "execution_count": 1,
      "outputs": [
        {
          "output_type": "stream",
          "name": "stdout",
          "text": [
            "concatenated string:  hello world\n"
          ]
        }
      ]
    },
    {
      "cell_type": "markdown",
      "source": [
        "### Finding the Length of strings"
      ],
      "metadata": {
        "id": "0pAD0kgCiNZJ"
      }
    },
    {
      "cell_type": "code",
      "source": [
        "print(\"length of str2: \", len(str1)  #length of strings is returned "
      ],
      "metadata": {
        "colab": {
          "base_uri": "https://localhost:8080/"
        },
        "id": "phAIK4uMiiRD",
        "outputId": "a439bc40-fa1a-437b-82da-acd9c9b1d8d6"
      },
      "execution_count": 3,
      "outputs": [
        {
          "output_type": "stream",
          "name": "stdout",
          "text": [
            "length of str2:  5\n"
          ]
        }
      ]
    },
    {
      "cell_type": "markdown",
      "source": [
        "### Slicing of Strings"
      ],
      "metadata": {
        "id": "o50qvBDgjArO"
      }
    },
    {
      "cell_type": "code",
      "source": [
        "print(str2[2:5])  #elements at positions '2','3' and '4' will e sliced and returned"
      ],
      "metadata": {
        "colab": {
          "base_uri": "https://localhost:8080/"
        },
        "id": "BdD1jaHEjDN_",
        "outputId": "a9235be4-14a6-4464-9962-fd70ab866c17"
      },
      "execution_count": 4,
      "outputs": [
        {
          "output_type": "stream",
          "name": "stdout",
          "text": [
            "orl\n"
          ]
        }
      ]
    },
    {
      "cell_type": "markdown",
      "source": [
        "### Splitting Strings"
      ],
      "metadata": {
        "id": "vrVAM0Esjof2"
      }
    },
    {
      "cell_type": "code",
      "source": [
        "string_1 = \"Welcome, to the exciting world, of python programming\"\n",
        "print(\"The original string is: \", string_1)\n",
        "print(\"The string being split using comma as parameter: \", string_1.split(','))   #returns the output in the form of elements splited with the use of ','"
      ],
      "metadata": {
        "colab": {
          "base_uri": "https://localhost:8080/"
        },
        "id": "zo3GvSaNjrPs",
        "outputId": "5327245b-ef5b-443e-e2dd-2c236668933b"
      },
      "execution_count": 6,
      "outputs": [
        {
          "output_type": "stream",
          "name": "stdout",
          "text": [
            "The original string is:  Welcome, to the exciting world, of python programming\n",
            "The string being split using comma as parameter:  ['Welcome', ' to the exciting world', ' of python programming']\n"
          ]
        }
      ]
    },
    {
      "cell_type": "markdown",
      "source": [
        "### Counting the number of a particular string within another string"
      ],
      "metadata": {
        "id": "gFfuOol4kUkx"
      }
    },
    {
      "cell_type": "code",
      "source": [
        "string_1 = \"Welcome, to the exciting world, of python programming\"\n",
        "print(\"The number of spaces in string_1 is:\", string_1.count(' '))  #counting the number of instances of a particular element within a string"
      ],
      "metadata": {
        "colab": {
          "base_uri": "https://localhost:8080/"
        },
        "id": "zqgUC8dDkZv4",
        "outputId": "9e0938d7-62fb-4d7a-e55e-329dc453a47d"
      },
      "execution_count": 8,
      "outputs": [
        {
          "output_type": "stream",
          "name": "stdout",
          "text": [
            "The number of spaces in string_1 is: 7\n"
          ]
        }
      ]
    },
    {
      "cell_type": "markdown",
      "source": [
        "### Replacing a string"
      ],
      "metadata": {
        "id": "MmzxP4rKkuWC"
      }
    },
    {
      "cell_type": "code",
      "source": [
        "string_1 = \"Welcome, to the exciting world, of python programming\"\n",
        "print(\"The spaces in string_1 can be replaced with an '_' as: \", string_1.replace(\" \", \"_\"))   #the replace method tkes in 2 arguments the element in original string and the element we want in the edited string"
      ],
      "metadata": {
        "colab": {
          "base_uri": "https://localhost:8080/"
        },
        "id": "GkDOmZFHkxm5",
        "outputId": "e79f6cb6-d459-4b57-f17e-0dce946de698"
      },
      "execution_count": 9,
      "outputs": [
        {
          "output_type": "stream",
          "name": "stdout",
          "text": [
            "The spaces in string_1 can be replaced with an '_' as:  Welcome,_to_the_exciting_world,_of_python_programming\n"
          ]
        }
      ]
    },
    {
      "cell_type": "markdown",
      "source": [
        "### Finding a particular string within another string"
      ],
      "metadata": {
        "id": "Ps-nJ8NClkjZ"
      }
    },
    {
      "cell_type": "code",
      "source": [
        "string_1 = \"Welcome, to the exciting world, of python programming\"\n",
        "print(string_1.find('to'))     # finds \"to\" in the string\n",
        "print(string_1.find('Java'))   #finds \"Java\" in string_1 > \"(-1)\" is returned if the element or string isn't present in the parent string : string_1"
      ],
      "metadata": {
        "colab": {
          "base_uri": "https://localhost:8080/"
        },
        "id": "XXeLpfSplqm5",
        "outputId": "a818db56-9674-45b5-ae4a-f377c95a929a"
      },
      "execution_count": 11,
      "outputs": [
        {
          "output_type": "stream",
          "name": "stdout",
          "text": [
            "9\n",
            "-1\n"
          ]
        }
      ]
    },
    {
      "cell_type": "markdown",
      "source": [
        "### Some complex operations on a string\n",
        "\n"
      ],
      "metadata": {
        "id": "F_ezSnKOmEDR"
      }
    },
    {
      "cell_type": "markdown",
      "source": [
        "##### 1. 'startswith' to check for the starting alphaet or element\n",
        "\n",
        "##### 2. 'endswith' to check for the ending alphabet or element\n",
        "\n",
        "##### 3. 'istitle' to check if the string follows 'CamelCase'\n",
        "\n",
        "##### 4. 'isupper' to check if the string is entirely in upper case\n",
        "\n",
        "##### 5. 'islower' to check if the string is entirly in lower case\n",
        "\n",
        "##### 6. 'isalpha' to check if the string contains either 'uppercase', 'lowercase' or a mixture of both but should be devoid of any special charachters\n",
        "\n",
        "##### 7. 'swapcase' is used to swap uppercase elements to lowercase and vice versa\n",
        "\n",
        "##### 8. 'strip' is used to remove a particular string from the parent string"
      ],
      "metadata": {
        "id": "hpKjtLsVoLTc"
      }
    },
    {
      "cell_type": "code",
      "source": [
        "string_1 = \"Welcome, to the exciting world, of python programming\"\n",
        "#1. \n",
        "print(\"The string starts with ('W'): \", string_1.startswith(\"W\"))\n",
        "#2.\n",
        "print(\"The string ends with ('g'): \", string_1.endswith(\"g\"))\n",
        "#3.\n",
        "print(\"The string follows title case: \", string_1.istitle())\n",
        "#4.\n",
        "print(\"The string is in uppercase: \", string_1.isupper())\n",
        "#5.\n",
        "print(\"The string is in lowercase:\", string_1.islower())\n",
        "#6.\n",
        "print(\"The string is in alphacase:\", string_1.isalpha())\n",
        "#7.\n",
        "print(\"The string after swapping its case is: \", string_1.swapcase())\n",
        "#8.\n",
        "print(\"The original string after stripping away the ' ' looks like: \", string_1.strip(' '))"
      ],
      "metadata": {
        "colab": {
          "base_uri": "https://localhost:8080/"
        },
        "id": "vUymJjpFma8B",
        "outputId": "c15b303e-d994-4e1a-f618-5a34f2cc2a73"
      },
      "execution_count": 15,
      "outputs": [
        {
          "output_type": "stream",
          "name": "stdout",
          "text": [
            "The string starts with ('W'):  True\n",
            "The string ends with ('g'):  True\n",
            "The string follows title case:  False\n",
            "The string is in uppercase:  False\n",
            "The string is in lowercase: False\n",
            "The string is in alphacase: False\n",
            "The string after swapping its case is:  wELCOME, TO THE EXCITING WORLD, OF PYTHON PROGRAMMING\n",
            "The original string after stripping away the ' ' looks like:  Welcome, to the exciting world, of python programming\n"
          ]
        }
      ]
    }
  ]
}