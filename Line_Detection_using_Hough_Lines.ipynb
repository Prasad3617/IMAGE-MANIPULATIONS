{
  "cells": [
    {
      "cell_type": "markdown",
      "metadata": {
        "id": "view-in-github",
        "colab_type": "text"
      },
      "source": [
        "<a href=\"https://colab.research.google.com/github/Prasad3617/IMAGE-MANIPULATIONS/blob/main/Line_Detection_using_Hough_Lines.ipynb\" target=\"_parent\"><img src=\"https://colab.research.google.com/assets/colab-badge.svg\" alt=\"Open In Colab\"/></a>"
      ]
    },
    {
      "cell_type": "markdown",
      "id": "889cd7e7",
      "metadata": {
        "id": "889cd7e7"
      },
      "source": [
        "## Normal \"HOUGH\" Transform"
      ]
    },
    {
      "cell_type": "code",
      "execution_count": null,
      "id": "b5089aa3",
      "metadata": {
        "id": "b5089aa3"
      },
      "outputs": [],
      "source": [
        "import cv2                                           #importing necessary libraries\n",
        "import numpy as np"
      ]
    },
    {
      "cell_type": "code",
      "execution_count": null,
      "id": "d55465ab",
      "metadata": {
        "id": "d55465ab"
      },
      "outputs": [],
      "source": [
        "image=cv2.imread(\"9.png\")                            #loading our input image"
      ]
    },
    {
      "cell_type": "code",
      "execution_count": null,
      "id": "0ff874b2",
      "metadata": {
        "id": "0ff874b2"
      },
      "outputs": [],
      "source": [
        "gray=cv2.cvtColor(image,cv2.COLOR_BGR2GRAY)          #converting our image to grayscale image"
      ]
    },
    {
      "cell_type": "code",
      "execution_count": null,
      "id": "5b9ad052",
      "metadata": {
        "id": "5b9ad052"
      },
      "outputs": [],
      "source": [
        "edges=cv2.Canny(gray,100,170,1)                      #extracting canny edges from the loaded input image"
      ]
    },
    {
      "cell_type": "code",
      "execution_count": null,
      "id": "ca52ccdf",
      "metadata": {
        "id": "ca52ccdf"
      },
      "outputs": [],
      "source": [
        "lines=cv2.HoughLines(edges,1,np.pi/180,240)          #using hough transform to detect lines within the image, '1':is the rho accuracy an 'np.pi/180': is the theta accuracy"
      ]
    },
    {
      "cell_type": "code",
      "execution_count": null,
      "id": "8f5a87c2",
      "metadata": {
        "id": "8f5a87c2"
      },
      "outputs": [],
      "source": [
        "for [rho,theta] in lines[0]:                       #iterating through ach line to convert and obtain its end-points\n",
        "    a=np.cos(theta)\n",
        "    b=np.sin(theta)\n",
        "    x0=a * rho\n",
        "    y0=b * rho\n",
        "    x1=int(x0 + 1000 * (-b))\n",
        "    y1=int(y0 + 1000 * (a))\n",
        "    x2=int(x0 - 1000 * (-b))\n",
        "    y2=int(y0 - 1000 * (a))\n",
        "    cv2.line(image,(x1,y1),(x2,y2),(255,255,0),5)"
      ]
    },
    {
      "cell_type": "code",
      "execution_count": null,
      "id": "67edd096",
      "metadata": {
        "id": "67edd096",
        "outputId": "6ae67b0c-23f5-4e41-e473-e2833262761d"
      },
      "outputs": [
        {
          "data": {
            "text/plain": [
              "113"
            ]
          },
          "execution_count": 7,
          "metadata": {},
          "output_type": "execute_result"
        }
      ],
      "source": [
        "cv2.imshow(\"Detected Lines\",image)                  #displaying the detected lines\n",
        "cv2.waitKey(0)"
      ]
    },
    {
      "cell_type": "code",
      "execution_count": null,
      "id": "4621481a",
      "metadata": {
        "id": "4621481a"
      },
      "outputs": [],
      "source": [
        "cv2.destroyAllWindows()                             #clearing all windows"
      ]
    },
    {
      "cell_type": "markdown",
      "id": "596c7925",
      "metadata": {
        "id": "596c7925"
      },
      "source": [
        "## Probabilistic \"HOUGH\" Transform"
      ]
    },
    {
      "cell_type": "code",
      "execution_count": null,
      "id": "d13d6f5b",
      "metadata": {
        "id": "d13d6f5b"
      },
      "outputs": [],
      "source": [
        "import cv2                                           #importing necessary libraries\n",
        "import numpy as np"
      ]
    },
    {
      "cell_type": "code",
      "execution_count": null,
      "id": "1c744ffe",
      "metadata": {
        "id": "1c744ffe"
      },
      "outputs": [],
      "source": [
        "image=cv2.imread(\"9.png\")                            #loading our input image"
      ]
    },
    {
      "cell_type": "code",
      "execution_count": null,
      "id": "60135327",
      "metadata": {
        "id": "60135327"
      },
      "outputs": [],
      "source": [
        "gray=cv2.cvtColor(image,cv2.COLOR_BGR2GRAY)          #converting our image to grayscale image"
      ]
    },
    {
      "cell_type": "code",
      "execution_count": null,
      "id": "0e3e6a51",
      "metadata": {
        "id": "0e3e6a51"
      },
      "outputs": [],
      "source": [
        "edges=cv2.Canny(gray,100,170,1)                      #extracting canny edges from the loaded input image"
      ]
    },
    {
      "cell_type": "code",
      "execution_count": null,
      "id": "f344f65f",
      "metadata": {
        "id": "f344f65f",
        "outputId": "ebf5133f-add2-4334-ff29-e72c42e1e612"
      },
      "outputs": [
        {
          "name": "stdout",
          "output_type": "stream",
          "text": [
            "(41, 1, 4)\n"
          ]
        }
      ],
      "source": [
        "lines=cv2.HoughLinesP(edges,1,np.pi/180,1000,100,100)          #using probabilistic hough transform to detect lines within the image, here we input the minimum line length and the maximum gap between the lines\n",
        "print(lines.shape)"
      ]
    },
    {
      "cell_type": "code",
      "execution_count": null,
      "id": "6b220c8c",
      "metadata": {
        "id": "6b220c8c"
      },
      "outputs": [],
      "source": [
        "for x1,y1,x2,y2 in lines[0]:\n",
        "    cv2.line(image,(x1,y1),(x2,y2),(0,255,0),10)"
      ]
    },
    {
      "cell_type": "code",
      "execution_count": null,
      "id": "bab8e4d3",
      "metadata": {
        "id": "bab8e4d3"
      },
      "outputs": [],
      "source": [
        "cv2.imshow(\"Detected Lines through Probability\",image)    #displaying the detected lines\n",
        "cv2.waitKey(0)"
      ]
    },
    {
      "cell_type": "code",
      "execution_count": null,
      "id": "6009e686",
      "metadata": {
        "id": "6009e686"
      },
      "outputs": [],
      "source": [
        "cv2.destroyAllWindows()                              #clearing all windows"
      ]
    },
    {
      "cell_type": "code",
      "execution_count": null,
      "id": "f3e7b1c9",
      "metadata": {
        "id": "f3e7b1c9"
      },
      "outputs": [],
      "source": []
    }
  ],
  "metadata": {
    "kernelspec": {
      "display_name": "Python 3 (ipykernel)",
      "language": "python",
      "name": "python3"
    },
    "language_info": {
      "codemirror_mode": {
        "name": "ipython",
        "version": 3
      },
      "file_extension": ".py",
      "mimetype": "text/x-python",
      "name": "python",
      "nbconvert_exporter": "python",
      "pygments_lexer": "ipython3",
      "version": "3.11.3"
    },
    "colab": {
      "provenance": [],
      "include_colab_link": true
    }
  },
  "nbformat": 4,
  "nbformat_minor": 5
}