{
  "cells": [
    {
      "cell_type": "markdown",
      "metadata": {
        "id": "view-in-github",
        "colab_type": "text"
      },
      "source": [
        "<a href=\"https://colab.research.google.com/github/Prasad3617/IMAGE-MANIPULATIONS/blob/main/Thresholding.ipynb\" target=\"_parent\"><img src=\"https://colab.research.google.com/assets/colab-badge.svg\" alt=\"Open In Colab\"/></a>"
      ]
    },
    {
      "cell_type": "markdown",
      "id": "7ebce4c0",
      "metadata": {
        "id": "7ebce4c0"
      },
      "source": [
        "# Thresholding, Binarization and Adaptive Thresholding"
      ]
    },
    {
      "cell_type": "markdown",
      "id": "c64d807e",
      "metadata": {
        "id": "c64d807e"
      },
      "source": [
        "#### Thresholding involves conversion of a grayscale image into its binary equivalent"
      ]
    },
    {
      "cell_type": "markdown",
      "id": "727a1a1f",
      "metadata": {
        "id": "727a1a1f"
      },
      "source": [
        "## ********************************************************************************************"
      ]
    },
    {
      "cell_type": "markdown",
      "id": "8c506494",
      "metadata": {
        "id": "8c506494"
      },
      "source": [
        "### For the implementation of the code below, use your own image and provide its path accordingly"
      ]
    },
    {
      "cell_type": "markdown",
      "id": "03788364",
      "metadata": {
        "id": "03788364"
      },
      "source": [
        "## ********************************************************************************************"
      ]
    },
    {
      "cell_type": "code",
      "execution_count": null,
      "id": "c6a1910d",
      "metadata": {
        "id": "c6a1910d"
      },
      "outputs": [],
      "source": [
        "import cv2                                                       #importing necessary libraries\n",
        "import numpy as np"
      ]
    },
    {
      "cell_type": "code",
      "execution_count": null,
      "id": "5abd5392",
      "metadata": {
        "id": "5abd5392"
      },
      "outputs": [],
      "source": [
        "image=cv2.imread(\"image3.png\",0)                                 #reading our input image"
      ]
    },
    {
      "cell_type": "code",
      "execution_count": null,
      "id": "130eb637",
      "metadata": {
        "id": "130eb637",
        "outputId": "c26c2436-f395-4b0b-e53d-61ce4bbae31f"
      },
      "outputs": [
        {
          "data": {
            "text/plain": [
              "113"
            ]
          },
          "execution_count": 3,
          "metadata": {},
          "output_type": "execute_result"
        }
      ],
      "source": [
        "cv2.imshow(\"Original Image\",image)                               #displaying our original image\n",
        "cv2.waitKey(0)"
      ]
    },
    {
      "cell_type": "code",
      "execution_count": null,
      "id": "e4402b5e",
      "metadata": {
        "id": "e4402b5e",
        "outputId": "83c204d9-0909-4a6e-a89f-47866750cfc4"
      },
      "outputs": [
        {
          "data": {
            "text/plain": [
              "113"
            ]
          },
          "execution_count": 4,
          "metadata": {},
          "output_type": "execute_result"
        }
      ],
      "source": [
        "ret,thresh1=cv2.threshold(image,127,255,cv2.THRESH_BINARY)       #For a range - (0-255), values below 127 gets converted to 0 (black in binary) and,\n",
        "cv2.imshow(\"1. Threshold Binary\",thresh1)                         #values above 127 gets converted to 255 (white in binary)\n",
        "cv2.waitKey(0)"
      ]
    },
    {
      "cell_type": "code",
      "execution_count": null,
      "id": "cdde815d",
      "metadata": {
        "id": "cdde815d",
        "outputId": "cb8a5240-2db6-4594-dc70-a01bce4901a4"
      },
      "outputs": [
        {
          "data": {
            "text/plain": [
              "113"
            ]
          },
          "execution_count": 5,
          "metadata": {},
          "output_type": "execute_result"
        }
      ],
      "source": [
        "ret,thresh2=cv2.threshold(image,127,255,cv2.THRESH_BINARY_INV)   #For a range - (0-255), values below 127 gets converted to 255 (white in binary) and,\n",
        "cv2.imshow(\"2. Threshold Binary Inverse\",thresh2)                 #values above 127 gets converted to 0 (black in binary)\n",
        "cv2.waitKey(0)                                                   #(REVERSE OF THE ABOVE)"
      ]
    },
    {
      "cell_type": "code",
      "execution_count": null,
      "id": "f99ae011",
      "metadata": {
        "id": "f99ae011",
        "outputId": "41d17d1b-42ce-4754-b8a1-c4b8e8e572d2"
      },
      "outputs": [
        {
          "data": {
            "text/plain": [
              "113"
            ]
          },
          "execution_count": 6,
          "metadata": {},
          "output_type": "execute_result"
        }
      ],
      "source": [
        "ret,thresh3=cv2.threshold(image,127,255,cv2.THRESH_TRUNC)        #Values above 127 are truncated(held) at 127 (255 remains unused)\n",
        "cv2.imshow(\"3. Thresh Truncated\",thresh3)\n",
        "cv2.waitKey(0)"
      ]
    },
    {
      "cell_type": "code",
      "execution_count": null,
      "id": "96bb92d3",
      "metadata": {
        "id": "96bb92d3",
        "outputId": "f944b9b2-e245-4ff1-b902-6ced68cd703c"
      },
      "outputs": [
        {
          "data": {
            "text/plain": [
              "113"
            ]
          },
          "execution_count": 7,
          "metadata": {},
          "output_type": "execute_result"
        }
      ],
      "source": [
        "ret,thresh4=cv2.threshold(image,127,255,cv2.THRESH_TOZERO)       #values below 127 go to 0 (values above 127 are unchanged)\n",
        "cv2.imshow(\"4. Thresh Tozero\",thresh4)\n",
        "cv2.waitKey(0)"
      ]
    },
    {
      "cell_type": "code",
      "execution_count": null,
      "id": "5d3beea2",
      "metadata": {
        "id": "5d3beea2",
        "outputId": "ffa3a9e6-e3ef-49de-cb31-4ef41a1e9136"
      },
      "outputs": [
        {
          "data": {
            "text/plain": [
              "113"
            ]
          },
          "execution_count": 8,
          "metadata": {},
          "output_type": "execute_result"
        }
      ],
      "source": [
        "ret,thresh5=cv2.threshold(image,127,0,cv2.THRESH_TOZERO_INV)     #reverse of above, values below 127 remain unchanged and above 127 go to zero\n",
        "cv2.imshow(\"5. Thresh Tozero Inverse\",thresh5)\n",
        "cv2.waitKey(0)"
      ]
    },
    {
      "cell_type": "code",
      "execution_count": null,
      "id": "cd54bb7a",
      "metadata": {
        "id": "cd54bb7a"
      },
      "outputs": [],
      "source": [
        "cv2.destroyAllWindows()"
      ]
    }
  ],
  "metadata": {
    "kernelspec": {
      "display_name": "Python 3 (ipykernel)",
      "language": "python",
      "name": "python3"
    },
    "language_info": {
      "codemirror_mode": {
        "name": "ipython",
        "version": 3
      },
      "file_extension": ".py",
      "mimetype": "text/x-python",
      "name": "python",
      "nbconvert_exporter": "python",
      "pygments_lexer": "ipython3",
      "version": "3.10.11"
    },
    "colab": {
      "provenance": [],
      "include_colab_link": true
    }
  },
  "nbformat": 4,
  "nbformat_minor": 5
}