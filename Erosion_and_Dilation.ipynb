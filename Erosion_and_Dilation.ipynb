{
  "cells": [
    {
      "cell_type": "markdown",
      "metadata": {
        "id": "view-in-github",
        "colab_type": "text"
      },
      "source": [
        "<a href=\"https://colab.research.google.com/github/Prasad3617/IMAGE-MANIPULATIONS/blob/main/Erosion_and_Dilation.ipynb\" target=\"_parent\"><img src=\"https://colab.research.google.com/assets/colab-badge.svg\" alt=\"Open In Colab\"/></a>"
      ]
    },
    {
      "cell_type": "markdown",
      "id": "723e1c85",
      "metadata": {
        "id": "723e1c85"
      },
      "source": [
        "# Erosion and Dilation"
      ]
    },
    {
      "cell_type": "markdown",
      "id": "ce075fef",
      "metadata": {
        "id": "ce075fef"
      },
      "source": [
        "### Erosion - Removes pixels at the boundaries of object in an image.\n",
        "\n",
        "### Dilation - Adds pixels to the boundaries of object in an image."
      ]
    },
    {
      "cell_type": "code",
      "execution_count": null,
      "id": "39a2f77c",
      "metadata": {
        "id": "39a2f77c"
      },
      "outputs": [],
      "source": [
        "import cv2                                              #importing necessary libraries\n",
        "import numpy as np"
      ]
    },
    {
      "cell_type": "code",
      "execution_count": null,
      "id": "a01124eb",
      "metadata": {
        "id": "a01124eb"
      },
      "outputs": [],
      "source": [
        "image=cv2.imread(\"image3.png\",0)                        #reading an image file"
      ]
    },
    {
      "cell_type": "code",
      "execution_count": null,
      "id": "d376ad3c",
      "metadata": {
        "id": "d376ad3c",
        "outputId": "73be2695-bca6-4c0e-81d6-27c9466a206c"
      },
      "outputs": [
        {
          "data": {
            "text/plain": [
              "113"
            ]
          },
          "execution_count": 3,
          "metadata": {},
          "output_type": "execute_result"
        }
      ],
      "source": [
        "cv2.imshow(\"Original_Image\", image)                     #displaying the image\n",
        "cv2.waitKey(0)"
      ]
    },
    {
      "cell_type": "code",
      "execution_count": null,
      "id": "071b5c7e",
      "metadata": {
        "id": "071b5c7e"
      },
      "outputs": [],
      "source": [
        "kernel=np.ones((5,5),np.uint8)                          #defining our kernel size"
      ]
    },
    {
      "cell_type": "code",
      "execution_count": null,
      "id": "f0da4857",
      "metadata": {
        "id": "f0da4857",
        "outputId": "98f45049-c856-47b5-b326-cba0bdfc2b36"
      },
      "outputs": [
        {
          "data": {
            "text/plain": [
              "113"
            ]
          },
          "execution_count": 5,
          "metadata": {},
          "output_type": "execute_result"
        }
      ],
      "source": [
        "erosion=cv2.erode(image,kernel,iterations=1)            #performing erosion\n",
        "cv2.imshow(\"Erosion\",erosion)\n",
        "cv2.waitKey(0)"
      ]
    },
    {
      "cell_type": "code",
      "execution_count": null,
      "id": "6c5e8bf4",
      "metadata": {
        "id": "6c5e8bf4",
        "outputId": "1dd3c2a2-c349-4541-bb74-5d53fc57cfca"
      },
      "outputs": [
        {
          "data": {
            "text/plain": [
              "113"
            ]
          },
          "execution_count": 6,
          "metadata": {},
          "output_type": "execute_result"
        }
      ],
      "source": [
        "dilation=cv2.dilate(image,kernel,iterations=1)          #performing dilation\n",
        "cv2.imshow(\"Dilation\",dilation)\n",
        "cv2.waitKey(0)"
      ]
    },
    {
      "cell_type": "code",
      "execution_count": null,
      "id": "6a094873",
      "metadata": {
        "id": "6a094873",
        "outputId": "a3581bd6-28bd-4412-e143-8b95ec6713c5"
      },
      "outputs": [
        {
          "data": {
            "text/plain": [
              "113"
            ]
          },
          "execution_count": 7,
          "metadata": {},
          "output_type": "execute_result"
        }
      ],
      "source": [
        "opening=cv2.morphologyEx(image,cv2.MORPH_OPEN,kernel)   #performing opening, which is good for removing noise in an image\n",
        "cv2.imshow(\"OPENING\",opening)\n",
        "cv2.waitKey(0)"
      ]
    },
    {
      "cell_type": "code",
      "execution_count": null,
      "id": "d921f4d0",
      "metadata": {
        "id": "d921f4d0"
      },
      "outputs": [],
      "source": [
        "closing=cv2.morphologyEx(image,cv2.MORPH_CLOSE,kernel)  #performing closing, which is again good for removing noise in an image\n",
        "cv2.imshow(\"CLOSING\",closing)\n",
        "cv2.waitKey(0)"
      ]
    },
    {
      "cell_type": "code",
      "execution_count": null,
      "id": "e6bb363a",
      "metadata": {
        "id": "e6bb363a"
      },
      "outputs": [],
      "source": [
        "cv2.destroyAllWindows()"
      ]
    }
  ],
  "metadata": {
    "kernelspec": {
      "display_name": "Python 3 (ipykernel)",
      "language": "python",
      "name": "python3"
    },
    "language_info": {
      "codemirror_mode": {
        "name": "ipython",
        "version": 3
      },
      "file_extension": ".py",
      "mimetype": "text/x-python",
      "name": "python",
      "nbconvert_exporter": "python",
      "pygments_lexer": "ipython3",
      "version": "3.10.11"
    },
    "colab": {
      "provenance": [],
      "include_colab_link": true
    }
  },
  "nbformat": 4,
  "nbformat_minor": 5
}